{
 "cells": [
  {
   "cell_type": "markdown",
   "metadata": {},
   "source": [
    "Load jupyter sql extension\n"
   ]
  },
  {
   "cell_type": "code",
   "execution_count": 1,
   "metadata": {},
   "outputs": [],
   "source": [
    "#Load Jupter SQL extension\n",
    "%reload_ext sql\n",
    "%config SqlMagic.autocommit = False"
   ]
  },
  {
   "cell_type": "code",
   "execution_count": 47,
   "metadata": {},
   "outputs": [],
   "source": [
    "import pandas as pd"
   ]
  },
  {
   "cell_type": "code",
   "execution_count": 3,
   "metadata": {},
   "outputs": [
    {
     "data": {
      "text/plain": [
       "'Connected: @../data/raw/frantamarit.db'"
      ]
     },
     "execution_count": 3,
     "metadata": {},
     "output_type": "execute_result"
    }
   ],
   "source": [
    "#Load database\n",
    "%sql sqlite:///../data/raw/frantamarit.db"
   ]
  },
  {
   "cell_type": "code",
   "execution_count": 4,
   "metadata": {},
   "outputs": [
    {
     "name": "stdout",
     "output_type": "stream",
     "text": [
      " * sqlite:///../data/raw/frantamarit.db\n",
      "Done.\n",
      "Returning data to local variable tables\n"
     ]
    }
   ],
   "source": [
    "%%sql tables <<\n",
    "\n",
    "SELECT \n",
    "    name\n",
    "FROM \n",
    "    sqlite_master \n",
    "WHERE \n",
    "    type ='table' AND \n",
    "    name NOT LIKE 'sqlite_%';"
   ]
  },
  {
   "cell_type": "code",
   "execution_count": 5,
   "metadata": {},
   "outputs": [
    {
     "name": "stdout",
     "output_type": "stream",
     "text": [
      " * sqlite:///../data/raw/frantamarit.db\n",
      "Done.\n",
      "Returning data to local variable master_join\n"
     ]
    }
   ],
   "source": [
    "%%sql master_join <<\n",
    "\n",
    "SELECT\n",
    "    rank_info.id,\n",
    "    rank_info.name as fullName,\n",
    "    rank_info.position,\n",
    "    personal_info.lastName,\n",
    "    personal_info.age,\n",
    "    personal_info.gender,\n",
    "    personal_info.country,\n",
    "    personal_info.image,\n",
    "    business_info.Source as source,\n",
    "    business_info.worth,\n",
    "    business_info.worthChange,\n",
    "    business_info.realTimePosition\n",
    "FROM \n",
    "    rank_info\n",
    "LEFT JOIN \n",
    "    personal_info\n",
    "ON\n",
    "    rank_info.id = personal_info.id\n",
    "LEFT JOIN\n",
    "    business_info\n",
    "ON \n",
    "    rank_info.id = business_info.id\n",
    "ORDER BY\n",
    "    rank_info.position DESC;"
   ]
  },
  {
   "cell_type": "code",
   "execution_count": 16,
   "metadata": {},
   "outputs": [],
   "source": [
    "#Showing tables\n",
    "df_master = master_join.DataFrame()"
   ]
  },
  {
   "cell_type": "code",
   "execution_count": 92,
   "metadata": {},
   "outputs": [
    {
     "data": {
      "text/html": [
       "<div>\n",
       "<style scoped>\n",
       "    .dataframe tbody tr th:only-of-type {\n",
       "        vertical-align: middle;\n",
       "    }\n",
       "\n",
       "    .dataframe tbody tr th {\n",
       "        vertical-align: top;\n",
       "    }\n",
       "\n",
       "    .dataframe thead th {\n",
       "        text-align: right;\n",
       "    }\n",
       "</style>\n",
       "<table border=\"1\" class=\"dataframe\">\n",
       "  <thead>\n",
       "    <tr style=\"text-align: right;\">\n",
       "      <th></th>\n",
       "      <th>id</th>\n",
       "      <th>fullName</th>\n",
       "      <th>position</th>\n",
       "      <th>lastName</th>\n",
       "      <th>age</th>\n",
       "      <th>gender</th>\n",
       "      <th>country</th>\n",
       "      <th>image</th>\n",
       "      <th>source</th>\n",
       "      <th>worth</th>\n",
       "      <th>worthChange</th>\n",
       "      <th>realTimePosition</th>\n",
       "      <th>sourceDetails</th>\n",
       "    </tr>\n",
       "  </thead>\n",
       "  <tbody>\n",
       "    <tr>\n",
       "      <th>0</th>\n",
       "      <td>1690</td>\n",
       "      <td>olgun zorlu</td>\n",
       "      <td>2208.0</td>\n",
       "      <td>zorlu</td>\n",
       "      <td>54.0</td>\n",
       "      <td>2</td>\n",
       "      <td>turkey</td>\n",
       "      <td>https://specials-images.forbesimg.com/imageser...</td>\n",
       "      <td>diversified</td>\n",
       "      <td>1.0</td>\n",
       "      <td>NaN</td>\n",
       "      <td>1978.0</td>\n",
       "      <td>diversified</td>\n",
       "    </tr>\n",
       "    <tr>\n",
       "      <th>1</th>\n",
       "      <td>2599</td>\n",
       "      <td>zhuo jun</td>\n",
       "      <td>2207.0</td>\n",
       "      <td>zhuo</td>\n",
       "      <td>52.0</td>\n",
       "      <td>1</td>\n",
       "      <td>hong kong</td>\n",
       "      <td>https://specials-images.forbesimg.com/imageser...</td>\n",
       "      <td>manufacturing</td>\n",
       "      <td>1.0</td>\n",
       "      <td>0.0</td>\n",
       "      <td>1978.0</td>\n",
       "      <td>printed circuit boards</td>\n",
       "    </tr>\n",
       "    <tr>\n",
       "      <th>2</th>\n",
       "      <td>8536</td>\n",
       "      <td>zhu xingming</td>\n",
       "      <td>2206.0</td>\n",
       "      <td>zhu</td>\n",
       "      <td>51.0</td>\n",
       "      <td>0</td>\n",
       "      <td>china</td>\n",
       "      <td>https://specials-images.forbesimg.com/imageser...</td>\n",
       "      <td>manufacturing</td>\n",
       "      <td>1.0</td>\n",
       "      <td>0.0</td>\n",
       "      <td>1856.0</td>\n",
       "      <td>electrical equipment</td>\n",
       "    </tr>\n",
       "    <tr>\n",
       "      <th>3</th>\n",
       "      <td>5887</td>\n",
       "      <td>zhou liangzhang</td>\n",
       "      <td>2205.0</td>\n",
       "      <td>zhou</td>\n",
       "      <td>55.0</td>\n",
       "      <td>0</td>\n",
       "      <td>none</td>\n",
       "      <td>https://specials-images.forbesimg.com/imageser...</td>\n",
       "      <td>manufacturing</td>\n",
       "      <td>1.0</td>\n",
       "      <td>NaN</td>\n",
       "      <td>2134.0</td>\n",
       "      <td>electrical equipment</td>\n",
       "    </tr>\n",
       "    <tr>\n",
       "      <th>4</th>\n",
       "      <td>9216</td>\n",
       "      <td>zhao xiaoqiang</td>\n",
       "      <td>2204.0</td>\n",
       "      <td>zhao</td>\n",
       "      <td>51.0</td>\n",
       "      <td>2</td>\n",
       "      <td>china</td>\n",
       "      <td>https://specials-images.forbesimg.com/imageser...</td>\n",
       "      <td>fashion &amp; retail</td>\n",
       "      <td>1.0</td>\n",
       "      <td>0.0</td>\n",
       "      <td>2134.0</td>\n",
       "      <td>fashion, entertainment</td>\n",
       "    </tr>\n",
       "    <tr>\n",
       "      <th>...</th>\n",
       "      <td>...</td>\n",
       "      <td>...</td>\n",
       "      <td>...</td>\n",
       "      <td>...</td>\n",
       "      <td>...</td>\n",
       "      <td>...</td>\n",
       "      <td>...</td>\n",
       "      <td>...</td>\n",
       "      <td>...</td>\n",
       "      <td>...</td>\n",
       "      <td>...</td>\n",
       "      <td>...</td>\n",
       "      <td>...</td>\n",
       "    </tr>\n",
       "    <tr>\n",
       "      <th>2255</th>\n",
       "      <td>8911</td>\n",
       "      <td>supaluck umpujh &amp; family</td>\n",
       "      <td>NaN</td>\n",
       "      <td>None</td>\n",
       "      <td>NaN</td>\n",
       "      <td>0</td>\n",
       "      <td>None</td>\n",
       "      <td>None</td>\n",
       "      <td>NaN</td>\n",
       "      <td>NaN</td>\n",
       "      <td>NaN</td>\n",
       "      <td>NaN</td>\n",
       "      <td>NaN</td>\n",
       "    </tr>\n",
       "    <tr>\n",
       "      <th>2256</th>\n",
       "      <td>4098</td>\n",
       "      <td>thomas duff</td>\n",
       "      <td>NaN</td>\n",
       "      <td>None</td>\n",
       "      <td>NaN</td>\n",
       "      <td>0</td>\n",
       "      <td>None</td>\n",
       "      <td>None</td>\n",
       "      <td>NaN</td>\n",
       "      <td>NaN</td>\n",
       "      <td>NaN</td>\n",
       "      <td>NaN</td>\n",
       "      <td>NaN</td>\n",
       "    </tr>\n",
       "    <tr>\n",
       "      <th>2257</th>\n",
       "      <td>6885</td>\n",
       "      <td>zakhar smushkin</td>\n",
       "      <td>NaN</td>\n",
       "      <td>None</td>\n",
       "      <td>NaN</td>\n",
       "      <td>0</td>\n",
       "      <td>None</td>\n",
       "      <td>None</td>\n",
       "      <td>NaN</td>\n",
       "      <td>NaN</td>\n",
       "      <td>NaN</td>\n",
       "      <td>NaN</td>\n",
       "      <td>NaN</td>\n",
       "    </tr>\n",
       "    <tr>\n",
       "      <th>2258</th>\n",
       "      <td>5401</td>\n",
       "      <td>zhang zhongneng &amp; family</td>\n",
       "      <td>NaN</td>\n",
       "      <td>None</td>\n",
       "      <td>NaN</td>\n",
       "      <td>0</td>\n",
       "      <td>None</td>\n",
       "      <td>None</td>\n",
       "      <td>NaN</td>\n",
       "      <td>NaN</td>\n",
       "      <td>NaN</td>\n",
       "      <td>NaN</td>\n",
       "      <td>NaN</td>\n",
       "    </tr>\n",
       "    <tr>\n",
       "      <th>2259</th>\n",
       "      <td>3651</td>\n",
       "      <td>zhu yicai</td>\n",
       "      <td>NaN</td>\n",
       "      <td>None</td>\n",
       "      <td>NaN</td>\n",
       "      <td>0</td>\n",
       "      <td>None</td>\n",
       "      <td>None</td>\n",
       "      <td>NaN</td>\n",
       "      <td>NaN</td>\n",
       "      <td>NaN</td>\n",
       "      <td>NaN</td>\n",
       "      <td>NaN</td>\n",
       "    </tr>\n",
       "  </tbody>\n",
       "</table>\n",
       "<p>2260 rows × 13 columns</p>\n",
       "</div>"
      ],
      "text/plain": [
       "        id                  fullName  position lastName   age  gender  \\\n",
       "0     1690               olgun zorlu    2208.0    zorlu  54.0       2   \n",
       "1     2599                  zhuo jun    2207.0     zhuo  52.0       1   \n",
       "2     8536              zhu xingming    2206.0      zhu  51.0       0   \n",
       "3     5887           zhou liangzhang    2205.0     zhou  55.0       0   \n",
       "4     9216            zhao xiaoqiang    2204.0     zhao  51.0       2   \n",
       "...    ...                       ...       ...      ...   ...     ...   \n",
       "2255  8911  supaluck umpujh & family       NaN     None   NaN       0   \n",
       "2256  4098               thomas duff       NaN     None   NaN       0   \n",
       "2257  6885           zakhar smushkin       NaN     None   NaN       0   \n",
       "2258  5401  zhang zhongneng & family       NaN     None   NaN       0   \n",
       "2259  3651                 zhu yicai       NaN     None   NaN       0   \n",
       "\n",
       "        country                                              image  \\\n",
       "0        turkey  https://specials-images.forbesimg.com/imageser...   \n",
       "1     hong kong  https://specials-images.forbesimg.com/imageser...   \n",
       "2         china  https://specials-images.forbesimg.com/imageser...   \n",
       "3          none  https://specials-images.forbesimg.com/imageser...   \n",
       "4         china  https://specials-images.forbesimg.com/imageser...   \n",
       "...         ...                                                ...   \n",
       "2255       None                                               None   \n",
       "2256       None                                               None   \n",
       "2257       None                                               None   \n",
       "2258       None                                               None   \n",
       "2259       None                                               None   \n",
       "\n",
       "                source  worth  worthChange  realTimePosition  \\\n",
       "0          diversified    1.0          NaN            1978.0   \n",
       "1        manufacturing    1.0          0.0            1978.0   \n",
       "2        manufacturing    1.0          0.0            1856.0   \n",
       "3        manufacturing    1.0          NaN            2134.0   \n",
       "4     fashion & retail    1.0          0.0            2134.0   \n",
       "...                ...    ...          ...               ...   \n",
       "2255               NaN    NaN          NaN               NaN   \n",
       "2256               NaN    NaN          NaN               NaN   \n",
       "2257               NaN    NaN          NaN               NaN   \n",
       "2258               NaN    NaN          NaN               NaN   \n",
       "2259               NaN    NaN          NaN               NaN   \n",
       "\n",
       "               sourceDetails  \n",
       "0                diversified  \n",
       "1     printed circuit boards  \n",
       "2       electrical equipment  \n",
       "3       electrical equipment  \n",
       "4     fashion, entertainment  \n",
       "...                      ...  \n",
       "2255                     NaN  \n",
       "2256                     NaN  \n",
       "2257                     NaN  \n",
       "2258                     NaN  \n",
       "2259                     NaN  \n",
       "\n",
       "[2260 rows x 13 columns]"
      ]
     },
     "execution_count": 92,
     "metadata": {},
     "output_type": "execute_result"
    }
   ],
   "source": [
    "df_master"
   ]
  },
  {
   "cell_type": "code",
   "execution_count": 87,
   "metadata": {},
   "outputs": [],
   "source": [
    "#To use afterwards\n",
    "def lowercase_feature_1(df,col):\n",
    "    return df[col].str.lower()"
   ]
  },
  {
   "cell_type": "code",
   "execution_count": 91,
   "metadata": {},
   "outputs": [],
   "source": [
    "to_lower_cols = ['lastName', 'fullName', 'country', 'source']\n",
    "\n",
    "for i in to_lower_cols:\n",
    "    df_master[i] = lowercase_feature_1(df_master, i)"
   ]
  },
  {
   "cell_type": "code",
   "execution_count": 90,
   "metadata": {},
   "outputs": [
    {
     "data": {
      "text/plain": [
       "0                    olgun zorlu\n",
       "1                       zhuo jun\n",
       "2                   zhu xingming\n",
       "3                zhou liangzhang\n",
       "4                 zhao xiaoqiang\n",
       "                  ...           \n",
       "2255    supaluck umpujh & family\n",
       "2256                 thomas duff\n",
       "2257             zakhar smushkin\n",
       "2258    zhang zhongneng & family\n",
       "2259                   zhu yicai\n",
       "Name: fullName, Length: 2260, dtype: object"
      ]
     },
     "execution_count": 90,
     "metadata": {},
     "output_type": "execute_result"
    }
   ],
   "source": [
    "df_master['fullName']"
   ]
  },
  {
   "cell_type": "code",
   "execution_count": 26,
   "metadata": {},
   "outputs": [],
   "source": [
    "def extract_str(df, col, regex):\n",
    "    return df[col].str.extract(regex)\n",
    "\n",
    "def extract_float(df, col, regex):\n",
    "    return df[col].str.extract(regex).astype('float64')\n",
    "\n",
    "def replace_str(df, col, x, y, rw):\n",
    "    return df[col].replace(x, y, inplace=rw)"
   ]
  },
  {
   "cell_type": "code",
   "execution_count": 21,
   "metadata": {},
   "outputs": [],
   "source": [
    "df_master['sourceDetails'] = extract_str(df_master,'source',r\"> (.*)\")"
   ]
  },
  {
   "cell_type": "code",
   "execution_count": 22,
   "metadata": {},
   "outputs": [],
   "source": [
    "df_master['source'] = extract_str(df_master,'source',r\"(.*)  =\")"
   ]
  },
  {
   "cell_type": "code",
   "execution_count": 23,
   "metadata": {},
   "outputs": [],
   "source": [
    "#In USD Billion\n",
    "df_master['worth'] = extract_float(df_master,'worth',r\"(\\d+.?\\d)\")"
   ]
  },
  {
   "cell_type": "code",
   "execution_count": 24,
   "metadata": {},
   "outputs": [],
   "source": [
    "#In USD Billion\n",
    "df_master['worthChange'] = extract_float(df_master,'worthChange',r\"(-?\\d+.?\\d*) \")"
   ]
  },
  {
   "cell_type": "code",
   "execution_count": 29,
   "metadata": {},
   "outputs": [],
   "source": [
    "df_master['country'].replace(\"People's Republic of China\", 'China',inplace=True)"
   ]
  },
  {
   "cell_type": "code",
   "execution_count": 41,
   "metadata": {},
   "outputs": [],
   "source": [
    "#Using Float but better to be treated as integer later on\n",
    "df_master['age'] = extract_float(df_master,'age',r'(\\d+)')"
   ]
  },
  {
   "cell_type": "code",
   "execution_count": 44,
   "metadata": {},
   "outputs": [],
   "source": [
    "df_master['age'] = [2017 - i if i > 1000 else i for i in df_master['age']]"
   ]
  },
  {
   "cell_type": "code",
   "execution_count": 46,
   "metadata": {},
   "outputs": [
    {
     "data": {
      "text/plain": [
       "array([19., 21., 23., 25., 26., 27., 28., 29., 30., 31., 32., 33., 34.,\n",
       "       35., 38., 39., 40., 41., 42., 43., 44., 45., 46., 47., 48., 49.,\n",
       "       50., 51., 52., 53., 54., 55., 56., 57., 58., 59., 60., 61., 62.,\n",
       "       63., 64., 65., 66., 67., 68., 69., 70., 71., 72., 73., 74., 75.,\n",
       "       76., 77., 78., 79., 80., 81., 82., 83., 84., 85., 86., 87., 88.,\n",
       "       89., 90., 91., 92., 93., 94., 95., 96., 97., 99., nan])"
      ]
     },
     "execution_count": 46,
     "metadata": {},
     "output_type": "execute_result"
    }
   ],
   "source": [
    "df_master['age'].sort_values().unique()"
   ]
  },
  {
   "cell_type": "code",
   "execution_count": 20,
   "metadata": {},
   "outputs": [
    {
     "data": {
      "text/html": [
       "<div>\n",
       "<style scoped>\n",
       "    .dataframe tbody tr th:only-of-type {\n",
       "        vertical-align: middle;\n",
       "    }\n",
       "\n",
       "    .dataframe tbody tr th {\n",
       "        vertical-align: top;\n",
       "    }\n",
       "\n",
       "    .dataframe thead th {\n",
       "        text-align: right;\n",
       "    }\n",
       "</style>\n",
       "<table border=\"1\" class=\"dataframe\">\n",
       "  <thead>\n",
       "    <tr style=\"text-align: right;\">\n",
       "      <th></th>\n",
       "      <th>id</th>\n",
       "      <th>name</th>\n",
       "      <th>position</th>\n",
       "    </tr>\n",
       "  </thead>\n",
       "  <tbody>\n",
       "    <tr>\n",
       "      <th>0</th>\n",
       "      <td>5542</td>\n",
       "      <td>anant asavabhokhin &amp; family</td>\n",
       "      <td>0.0</td>\n",
       "    </tr>\n",
       "    <tr>\n",
       "      <th>1</th>\n",
       "      <td>4183</td>\n",
       "      <td>arash ferdowsi</td>\n",
       "      <td>0.0</td>\n",
       "    </tr>\n",
       "    <tr>\n",
       "      <th>2</th>\n",
       "      <td>4761</td>\n",
       "      <td>banthoon lamsam &amp; family</td>\n",
       "      <td>0.0</td>\n",
       "    </tr>\n",
       "    <tr>\n",
       "      <th>3</th>\n",
       "      <td>1449</td>\n",
       "      <td>bill adderley &amp; family</td>\n",
       "      <td>0.0</td>\n",
       "    </tr>\n",
       "    <tr>\n",
       "      <th>4</th>\n",
       "      <td>1624</td>\n",
       "      <td>boris zingarevich</td>\n",
       "      <td>0.0</td>\n",
       "    </tr>\n",
       "    <tr>\n",
       "      <th>...</th>\n",
       "      <td>...</td>\n",
       "      <td>...</td>\n",
       "      <td>...</td>\n",
       "    </tr>\n",
       "    <tr>\n",
       "      <th>2255</th>\n",
       "      <td>9216</td>\n",
       "      <td>zhao xiaoqiang</td>\n",
       "      <td>2204.0</td>\n",
       "    </tr>\n",
       "    <tr>\n",
       "      <th>2256</th>\n",
       "      <td>5887</td>\n",
       "      <td>zhou liangzhang</td>\n",
       "      <td>2205.0</td>\n",
       "    </tr>\n",
       "    <tr>\n",
       "      <th>2257</th>\n",
       "      <td>8536</td>\n",
       "      <td>zhu xingming</td>\n",
       "      <td>2206.0</td>\n",
       "    </tr>\n",
       "    <tr>\n",
       "      <th>2258</th>\n",
       "      <td>2599</td>\n",
       "      <td>zhuo jun</td>\n",
       "      <td>2207.0</td>\n",
       "    </tr>\n",
       "    <tr>\n",
       "      <th>2259</th>\n",
       "      <td>1690</td>\n",
       "      <td>olgun zorlu</td>\n",
       "      <td>2208.0</td>\n",
       "    </tr>\n",
       "  </tbody>\n",
       "</table>\n",
       "<p>2260 rows × 3 columns</p>\n",
       "</div>"
      ],
      "text/plain": [
       "        id                         name  position\n",
       "0     5542  anant asavabhokhin & family       0.0\n",
       "1     4183               arash ferdowsi       0.0\n",
       "2     4761     banthoon lamsam & family       0.0\n",
       "3     1449       bill adderley & family       0.0\n",
       "4     1624            boris zingarevich       0.0\n",
       "...    ...                          ...       ...\n",
       "2255  9216               zhao xiaoqiang    2204.0\n",
       "2256  5887              zhou liangzhang    2205.0\n",
       "2257  8536                 zhu xingming    2206.0\n",
       "2258  2599                     zhuo jun    2207.0\n",
       "2259  1690                  olgun zorlu    2208.0\n",
       "\n",
       "[2260 rows x 3 columns]"
      ]
     },
     "execution_count": 20,
     "metadata": {},
     "output_type": "execute_result"
    }
   ],
   "source": [
    "#We don't want to get rid of the NaN yet, so we'll fill them with 0s.\n",
    "def fill_0(x):\n",
    "    return x.fillna(0, inplace=True)\n",
    "\n",
    "fill_0(df_rank_info)\n",
    "df_rank_info"
   ]
  },
  {
   "cell_type": "code",
   "execution_count": 17,
   "metadata": {},
   "outputs": [],
   "source": [
    "#get nulls\n",
    "\n",
    "def get_null(x):\n",
    "    return x.isnull().sum()"
   ]
  },
  {
   "cell_type": "code",
   "execution_count": 21,
   "metadata": {},
   "outputs": [
    {
     "data": {
      "text/plain": [
       "id          0\n",
       "name        0\n",
       "position    0\n",
       "dtype: int64"
      ]
     },
     "execution_count": 21,
     "metadata": {},
     "output_type": "execute_result"
    }
   ],
   "source": [
    "get_null(df_rank_info)"
   ]
  },
  {
   "cell_type": "code",
   "execution_count": null,
   "metadata": {},
   "outputs": [],
   "source": [
    "personal_info.head()"
   ]
  },
  {
   "cell_type": "code",
   "execution_count": null,
   "metadata": {},
   "outputs": [],
   "source": [
    "master_info.isnull().sum()"
   ]
  }
 ],
 "metadata": {
  "kernelspec": {
   "display_name": "Python [conda env:data_env]",
   "language": "python",
   "name": "conda-env-data_env-py"
  },
  "language_info": {
   "codemirror_mode": {
    "name": "ipython",
    "version": 3
   },
   "file_extension": ".py",
   "mimetype": "text/x-python",
   "name": "python",
   "nbconvert_exporter": "python",
   "pygments_lexer": "ipython3",
   "version": "3.7.5"
  }
 },
 "nbformat": 4,
 "nbformat_minor": 4
}
