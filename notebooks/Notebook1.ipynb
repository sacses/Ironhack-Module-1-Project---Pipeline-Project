{
 "cells": [
  {
   "cell_type": "markdown",
   "metadata": {},
   "source": [
    "Load jupyter sql extension\n"
   ]
  },
  {
   "cell_type": "code",
   "execution_count": 1,
   "metadata": {},
   "outputs": [],
   "source": [
    "import pandas as pd"
   ]
  },
  {
   "cell_type": "code",
   "execution_count": 2,
   "metadata": {},
   "outputs": [],
   "source": [
    "from sqlalchemy import create_engine\n",
    "engine = create_engine('sqlite:///../data/raw/frantamarit.db')"
   ]
  },
  {
   "cell_type": "code",
   "execution_count": 11,
   "metadata": {},
   "outputs": [],
   "source": [
    "sql = \\\n",
    "\"SELECT rank_info.id, rank_info.name as fullName, rank_info.position,personal_info.lastName,\\\n",
    "personal_info.age, personal_info.gender, personal_info.country, personal_info.image,\\\n",
    "business_info.Source as source, business_info.worth, business_info.worthChange,\\\n",
    "business_info.realTimePosition \\\n",
    "FROM rank_info \\\n",
    "LEFT JOIN personal_info \\\n",
    "ON rank_info.id = personal_info.id \\\n",
    "LEFT JOIN business_info \\\n",
    "ON rank_info.id = business_info.id \\\n",
    "ORDER BY rank_info.position DESC\"\n",
    "\n",
    "df_master = pd.read_sql_query(sql, engine)"
   ]
  },
  {
   "cell_type": "code",
   "execution_count": 50,
   "metadata": {},
   "outputs": [
    {
     "data": {
      "text/plain": [
       "array(['Angola', 'Argentina', 'Australia', 'Austria', 'Belgium', 'Brazil',\n",
       "       'Canada', 'Chile', 'China', 'Colombia', 'Cyprus', 'Czech Republic',\n",
       "       'Denmark', 'Egypt', 'Finland', 'France', 'Georgia', 'Germany',\n",
       "       'Greece', 'Hong Kong', 'Iceland', 'India', 'Indonesia', 'Ireland',\n",
       "       'Israel', 'Italy', 'Japan', 'Kazakhstan', 'Kuwait', 'Lebanon',\n",
       "       'Liechtenstein', 'Macau', 'Malaysia', 'Mexico', 'Monaco',\n",
       "       'Morocco', 'Netherlands', 'New Zealand', 'None', 'Norway', 'Oman',\n",
       "       \"People's Republic of China\", 'Peru', 'Philippines', 'Poland',\n",
       "       'Qatar', 'Russia', 'Singapore', 'South Africa', 'South Korea',\n",
       "       'Spain', 'St. Kitts and Nevis', 'Swaziland', 'Sweden',\n",
       "       'Switzerland', 'Taiwan', 'Thailand', 'Turkey', 'UK', 'USA',\n",
       "       'Ukraine', 'United Arab Emirates', 'United Kingdom',\n",
       "       'United States', 'Vietnam', None], dtype=object)"
      ]
     },
     "execution_count": 50,
     "metadata": {},
     "output_type": "execute_result"
    }
   ],
   "source": [
    "df_master['country'].sort_values().unique()"
   ]
  },
  {
   "cell_type": "code",
   "execution_count": 27,
   "metadata": {},
   "outputs": [],
   "source": [
    "#To use afterwards\n",
    "def lowercase_feature(df,col):\n",
    "    return df[col].str.lower()"
   ]
  },
  {
   "cell_type": "code",
   "execution_count": 29,
   "metadata": {},
   "outputs": [],
   "source": [
    "to_lower_cols = ['lastName', 'fullName', 'country', 'source']\n",
    "\n",
    "for i in to_lower_cols:\n",
    "    df_master[i] = lowercase_feature(df_master, i)"
   ]
  },
  {
   "cell_type": "code",
   "execution_count": 28,
   "metadata": {},
   "outputs": [],
   "source": [
    "def extract_str(df, col, regex):\n",
    "    return df[col].str.extract(regex)\n",
    "\n",
    "def extract_float(df, col, regex):\n",
    "    return df[col].str.extract(regex).astype('float64')"
   ]
  },
  {
   "cell_type": "code",
   "execution_count": 30,
   "metadata": {},
   "outputs": [],
   "source": [
    "df_master['sourceDetails'] = extract_str(df_master,'source',r\"> (.*)\")"
   ]
  },
  {
   "cell_type": "code",
   "execution_count": 31,
   "metadata": {},
   "outputs": [],
   "source": [
    "df_master['source'] = extract_str(df_master,'source',r\"(.*)  =\")"
   ]
  },
  {
   "cell_type": "code",
   "execution_count": 32,
   "metadata": {},
   "outputs": [],
   "source": [
    "#In USD Billion\n",
    "df_master['worth'] = extract_float(df_master,'worth',r\"(\\d+.?\\d)\")"
   ]
  },
  {
   "cell_type": "code",
   "execution_count": 33,
   "metadata": {},
   "outputs": [],
   "source": [
    "#In USD Billion\n",
    "df_master['worthChange'] = extract_float(df_master,'worthChange',r\"(-?\\d+.?\\d*) \")"
   ]
  },
  {
   "cell_type": "code",
   "execution_count": 34,
   "metadata": {},
   "outputs": [],
   "source": [
    "df_master['country'].replace(\"People's Republic of China\", 'China',inplace=True)"
   ]
  },
  {
   "cell_type": "code",
   "execution_count": 47,
   "metadata": {},
   "outputs": [],
   "source": [
    "df_master['country'].replace(\"usa\", 'united stated',inplace=True)"
   ]
  },
  {
   "cell_type": "code",
   "execution_count": 46,
   "metadata": {},
   "outputs": [
    {
     "data": {
      "text/plain": [
       "array(['angola', 'argentina', 'australia', 'austria', 'belgium', 'brazil',\n",
       "       'canada', 'chile', 'china', 'colombia', 'cyprus', 'czech republic',\n",
       "       'denmark', 'egypt', 'finland', 'france', 'georgia', 'germany',\n",
       "       'greece', 'hong kong', 'iceland', 'india', 'indonesia', 'ireland',\n",
       "       'israel', 'italy', 'japan', 'kazakhstan', 'kuwait', 'lebanon',\n",
       "       'liechtenstein', 'macau', 'malaysia', 'mexico', 'monaco',\n",
       "       'morocco', 'netherlands', 'new zealand', 'none', 'norway', 'oman',\n",
       "       \"people's republic of china\", 'peru', 'philippines', 'poland',\n",
       "       'qatar', 'russia', 'singapore', 'south africa', 'south korea',\n",
       "       'spain', 'st. kitts and nevis', 'swaziland', 'sweden',\n",
       "       'switzerland', 'taiwan', 'thailand', 'turkey', 'uk', 'ukraine',\n",
       "       'united arab emirates', 'united kingdom', 'united states', 'usa',\n",
       "       'vietnam', None], dtype=object)"
      ]
     },
     "execution_count": 46,
     "metadata": {},
     "output_type": "execute_result"
    }
   ],
   "source": [
    "df_master['country'].sort_values().unique()"
   ]
  },
  {
   "cell_type": "code",
   "execution_count": 35,
   "metadata": {},
   "outputs": [],
   "source": [
    "#Using Float but better to be treated as integer later on\n",
    "df_master['age'] = extract_float(df_master,'age',r'(\\d+)')"
   ]
  },
  {
   "cell_type": "code",
   "execution_count": 39,
   "metadata": {},
   "outputs": [
    {
     "data": {
      "text/plain": [
       "array([  54.,   52.,   51.,   55.,   53.,   49.,   59.,   85.,   67.,\n",
       "         66.,   63.,   69.,   77.,   73.,   62., 1984.,   64.,   80.,\n",
       "         91.,   75.,   79.,   60.,   72.,   76.,   47.,   70.,   50.,\n",
       "         56.,   38., 1986.,   88.,   48.,   74.,   45., 1990., 1992.,\n",
       "         71.,   86.,   61.,   42.,   nan,   78.,   83.,   68.,   40.,\n",
       "         65.,   44.,   43.,   81.,   57.,   46.,   82.,   58., 1989.,\n",
       "         41.,   92., 1983., 1982.,   90., 1985., 1987., 1988.,   84.,\n",
       "         94.,   39.,   87.,   96.,   89., 1996., 1998.,   95., 1991.,\n",
       "         97.,   93., 1994.,   99.])"
      ]
     },
     "execution_count": 39,
     "metadata": {},
     "output_type": "execute_result"
    }
   ],
   "source": [
    "df_master['age'].unique()"
   ]
  },
  {
   "cell_type": "code",
   "execution_count": 40,
   "metadata": {},
   "outputs": [],
   "source": [
    "df_master['age'] = [2018 - i if i > 1000 else i for i in df_master['age']]"
   ]
  },
  {
   "cell_type": "code",
   "execution_count": 12,
   "metadata": {},
   "outputs": [],
   "source": [
    "#1 assigned to Female, 2 to Male & 0 to nulls.\n",
    "df_master['gender'] = [0 if i == 'F' or i == 'Female' else 1 if i == 'M' or i == 'Male' else '' for i in df_master['gender']]"
   ]
  },
  {
   "cell_type": "code",
   "execution_count": 15,
   "metadata": {},
   "outputs": [],
   "source": [
    "df_master['gender'] = pd.to_numeric(df_master['gender'], errors='ignore')"
   ]
  },
  {
   "cell_type": "code",
   "execution_count": 17,
   "metadata": {},
   "outputs": [
    {
     "data": {
      "text/plain": [
       "0.8874695863746959"
      ]
     },
     "execution_count": 17,
     "metadata": {},
     "output_type": "execute_result"
    }
   ],
   "source": [
    "df_master['gender'].mean()"
   ]
  },
  {
   "cell_type": "code",
   "execution_count": 124,
   "metadata": {},
   "outputs": [
    {
     "name": "stdout",
     "output_type": "stream",
     "text": [
      "id\n",
      "fullName\n",
      "position\n",
      "lastName\n",
      "age\n",
      "gender\n",
      "country\n",
      "image\n",
      "source\n",
      "worth\n",
      "worthChange\n",
      "realTimePosition\n",
      "sourceDetails\n"
     ]
    }
   ],
   "source": [
    "for i in df_master.columns:\n",
    "    print(i)"
   ]
  },
  {
   "cell_type": "code",
   "execution_count": 51,
   "metadata": {},
   "outputs": [],
   "source": [
    "for i,j in zip(df_master.dtypes, df_master.columns):\n",
    "    if i == 'float64' or i == 'int64':\n",
    "        df_master[j].fillna(0, inplace=True)\n",
    "    else:\n",
    "        df_master[j].fillna('', inplace=True)"
   ]
  },
  {
   "cell_type": "code",
   "execution_count": 128,
   "metadata": {},
   "outputs": [],
   "source": [
    "df_master.to_csv(f'../data/processed/cleaned_output.csv', sep=';', index=False)"
   ]
  },
  {
   "cell_type": "code",
   "execution_count": 14,
   "metadata": {},
   "outputs": [
    {
     "data": {
      "text/plain": [
       "2260"
      ]
     },
     "execution_count": 14,
     "metadata": {},
     "output_type": "execute_result"
    }
   ],
   "source": [
    "len(df_master)"
   ]
  },
  {
   "cell_type": "code",
   "execution_count": 20,
   "metadata": {},
   "outputs": [
    {
     "data": {
      "text/html": [
       "<div>\n",
       "<style scoped>\n",
       "    .dataframe tbody tr th:only-of-type {\n",
       "        vertical-align: middle;\n",
       "    }\n",
       "\n",
       "    .dataframe tbody tr th {\n",
       "        vertical-align: top;\n",
       "    }\n",
       "\n",
       "    .dataframe thead th {\n",
       "        text-align: right;\n",
       "    }\n",
       "</style>\n",
       "<table border=\"1\" class=\"dataframe\">\n",
       "  <thead>\n",
       "    <tr style=\"text-align: right;\">\n",
       "      <th></th>\n",
       "      <th>id</th>\n",
       "      <th>name</th>\n",
       "      <th>position</th>\n",
       "    </tr>\n",
       "  </thead>\n",
       "  <tbody>\n",
       "    <tr>\n",
       "      <th>0</th>\n",
       "      <td>5542</td>\n",
       "      <td>anant asavabhokhin &amp; family</td>\n",
       "      <td>0.0</td>\n",
       "    </tr>\n",
       "    <tr>\n",
       "      <th>1</th>\n",
       "      <td>4183</td>\n",
       "      <td>arash ferdowsi</td>\n",
       "      <td>0.0</td>\n",
       "    </tr>\n",
       "    <tr>\n",
       "      <th>2</th>\n",
       "      <td>4761</td>\n",
       "      <td>banthoon lamsam &amp; family</td>\n",
       "      <td>0.0</td>\n",
       "    </tr>\n",
       "    <tr>\n",
       "      <th>3</th>\n",
       "      <td>1449</td>\n",
       "      <td>bill adderley &amp; family</td>\n",
       "      <td>0.0</td>\n",
       "    </tr>\n",
       "    <tr>\n",
       "      <th>4</th>\n",
       "      <td>1624</td>\n",
       "      <td>boris zingarevich</td>\n",
       "      <td>0.0</td>\n",
       "    </tr>\n",
       "    <tr>\n",
       "      <th>...</th>\n",
       "      <td>...</td>\n",
       "      <td>...</td>\n",
       "      <td>...</td>\n",
       "    </tr>\n",
       "    <tr>\n",
       "      <th>2255</th>\n",
       "      <td>9216</td>\n",
       "      <td>zhao xiaoqiang</td>\n",
       "      <td>2204.0</td>\n",
       "    </tr>\n",
       "    <tr>\n",
       "      <th>2256</th>\n",
       "      <td>5887</td>\n",
       "      <td>zhou liangzhang</td>\n",
       "      <td>2205.0</td>\n",
       "    </tr>\n",
       "    <tr>\n",
       "      <th>2257</th>\n",
       "      <td>8536</td>\n",
       "      <td>zhu xingming</td>\n",
       "      <td>2206.0</td>\n",
       "    </tr>\n",
       "    <tr>\n",
       "      <th>2258</th>\n",
       "      <td>2599</td>\n",
       "      <td>zhuo jun</td>\n",
       "      <td>2207.0</td>\n",
       "    </tr>\n",
       "    <tr>\n",
       "      <th>2259</th>\n",
       "      <td>1690</td>\n",
       "      <td>olgun zorlu</td>\n",
       "      <td>2208.0</td>\n",
       "    </tr>\n",
       "  </tbody>\n",
       "</table>\n",
       "<p>2260 rows × 3 columns</p>\n",
       "</div>"
      ],
      "text/plain": [
       "        id                         name  position\n",
       "0     5542  anant asavabhokhin & family       0.0\n",
       "1     4183               arash ferdowsi       0.0\n",
       "2     4761     banthoon lamsam & family       0.0\n",
       "3     1449       bill adderley & family       0.0\n",
       "4     1624            boris zingarevich       0.0\n",
       "...    ...                          ...       ...\n",
       "2255  9216               zhao xiaoqiang    2204.0\n",
       "2256  5887              zhou liangzhang    2205.0\n",
       "2257  8536                 zhu xingming    2206.0\n",
       "2258  2599                     zhuo jun    2207.0\n",
       "2259  1690                  olgun zorlu    2208.0\n",
       "\n",
       "[2260 rows x 3 columns]"
      ]
     },
     "execution_count": 20,
     "metadata": {},
     "output_type": "execute_result"
    }
   ],
   "source": [
    "#We don't want to get rid of the NaN yet, so we'll fill them with 0s.\n",
    "def fill_0(x):\n",
    "    return x.fillna(0, inplace=True)\n",
    "\n",
    "fill_0(df_rank_info)\n",
    "df_rank_info"
   ]
  },
  {
   "cell_type": "code",
   "execution_count": 52,
   "metadata": {},
   "outputs": [],
   "source": [
    "#get nulls\n",
    "\n",
    "def get_null(x):\n",
    "    return x.isnull().sum()"
   ]
  },
  {
   "cell_type": "code",
   "execution_count": 53,
   "metadata": {},
   "outputs": [
    {
     "data": {
      "text/plain": [
       "id                  0\n",
       "fullName            0\n",
       "position            0\n",
       "lastName            0\n",
       "age                 0\n",
       "gender              0\n",
       "country             0\n",
       "image               0\n",
       "source              0\n",
       "worth               0\n",
       "worthChange         0\n",
       "realTimePosition    0\n",
       "dtype: int64"
      ]
     },
     "execution_count": 53,
     "metadata": {},
     "output_type": "execute_result"
    }
   ],
   "source": [
    "get_null(df_master)"
   ]
  },
  {
   "cell_type": "code",
   "execution_count": 119,
   "metadata": {},
   "outputs": [
    {
     "name": "stdout",
     "output_type": "stream",
     "text": [
      "no\n",
      "no\n",
      "yest\n",
      "no\n",
      "yest\n",
      "no\n",
      "no\n",
      "no\n",
      "no\n",
      "yest\n",
      "yest\n",
      "yest\n",
      "no\n"
     ]
    }
   ],
   "source": [
    "for i in df_master.dtypes:\n",
    "    if i == 'float64':\n",
    "        print('yest')\n",
    "    else:\n",
    "        print('no')"
   ]
  },
  {
   "cell_type": "code",
   "execution_count": 120,
   "metadata": {},
   "outputs": [
    {
     "data": {
      "text/plain": [
       "id                    int64\n",
       "fullName             object\n",
       "position            float64\n",
       "lastName             object\n",
       "age                 float64\n",
       "gender                int64\n",
       "country              object\n",
       "image                object\n",
       "source               object\n",
       "worth               float64\n",
       "worthChange         float64\n",
       "realTimePosition    float64\n",
       "sourceDetails        object\n",
       "dtype: object"
      ]
     },
     "execution_count": 120,
     "metadata": {},
     "output_type": "execute_result"
    }
   ],
   "source": [
    "df_master.dtypes"
   ]
  },
  {
   "cell_type": "code",
   "execution_count": null,
   "metadata": {},
   "outputs": [],
   "source": [
    "personal_info.head()"
   ]
  },
  {
   "cell_type": "code",
   "execution_count": null,
   "metadata": {},
   "outputs": [],
   "source": [
    "master_info.isnull().sum()"
   ]
  }
 ],
 "metadata": {
  "kernelspec": {
   "display_name": "Python [conda env:data_env]",
   "language": "python",
   "name": "conda-env-data_env-py"
  },
  "language_info": {
   "codemirror_mode": {
    "name": "ipython",
    "version": 3
   },
   "file_extension": ".py",
   "mimetype": "text/x-python",
   "name": "python",
   "nbconvert_exporter": "python",
   "pygments_lexer": "ipython3",
   "version": "3.7.5"
  }
 },
 "nbformat": 4,
 "nbformat_minor": 4
}
