{
 "cells": [
  {
   "cell_type": "markdown",
   "metadata": {},
   "source": [
    "Load jupyter sql extension\n"
   ]
  },
  {
   "cell_type": "code",
   "execution_count": 2,
   "metadata": {},
   "outputs": [
    {
     "data": {
      "text/plain": [
       "'\\n%load_ext sql\\n%config SqlMagic.autocommit = False\\n'"
      ]
     },
     "execution_count": 2,
     "metadata": {},
     "output_type": "execute_result"
    }
   ],
   "source": [
    "\"\"\"\n",
    "%load_ext sql\n",
    "%config SqlMagic.autocommit = False\n",
    "\"\"\""
   ]
  },
  {
   "cell_type": "markdown",
   "metadata": {},
   "source": [
    "Next load the database"
   ]
  },
  {
   "cell_type": "code",
   "execution_count": 3,
   "metadata": {},
   "outputs": [
    {
     "data": {
      "text/plain": [
       "'\\n%sql sqlite:///../data/raw/frantamarit.db\\n'"
      ]
     },
     "execution_count": 3,
     "metadata": {},
     "output_type": "execute_result"
    }
   ],
   "source": [
    "\"\"\"\n",
    "%sql sqlite:///../data/raw/frantamarit.db\n",
    "\"\"\""
   ]
  },
  {
   "cell_type": "code",
   "execution_count": 4,
   "metadata": {},
   "outputs": [
    {
     "data": {
      "text/plain": [
       "\"\\n%%sql tables <<\\n\\nSELECT \\n    name\\nFROM \\n    sqlite_master \\nWHERE \\n    type ='table' AND \\n    name NOT LIKE 'sqlite_%';\\n\""
      ]
     },
     "execution_count": 4,
     "metadata": {},
     "output_type": "execute_result"
    }
   ],
   "source": [
    "\"\"\"\n",
    "%%sql tables <<\n",
    "\n",
    "SELECT \n",
    "    name\n",
    "FROM \n",
    "    sqlite_master \n",
    "WHERE \n",
    "    type ='table' AND \n",
    "    name NOT LIKE 'sqlite_%';\n",
    "\"\"\""
   ]
  },
  {
   "cell_type": "code",
   "execution_count": 5,
   "metadata": {},
   "outputs": [
    {
     "data": {
      "text/plain": [
       "'\\ntables.DataFrame()\\n'"
      ]
     },
     "execution_count": 5,
     "metadata": {},
     "output_type": "execute_result"
    }
   ],
   "source": [
    "\"\"\"\n",
    "tables.DataFrame()\n",
    "\"\"\""
   ]
  },
  {
   "cell_type": "code",
   "execution_count": 6,
   "metadata": {},
   "outputs": [
    {
     "data": {
      "text/plain": [
       "'\\n%%sql master_table <<\\n\\nSELECT \\n*\\nFROM rank_info\\nJOIN personal_info ON rank_info.id = rank_info.id\\nJOIN business_info ON business_info.id = rank_info.id;\\n'"
      ]
     },
     "execution_count": 6,
     "metadata": {},
     "output_type": "execute_result"
    }
   ],
   "source": [
    "\"\"\"\n",
    "%%sql master_table <<\n",
    "\n",
    "SELECT \n",
    "*\n",
    "FROM rank_info\n",
    "JOIN personal_info ON rank_info.id = rank_info.id\n",
    "JOIN business_info ON business_info.id = rank_info.id;\n",
    "\"\"\""
   ]
  },
  {
   "cell_type": "markdown",
   "metadata": {},
   "source": [
    "1. Creating engine to connect to the database"
   ]
  },
  {
   "cell_type": "code",
   "execution_count": 7,
   "metadata": {},
   "outputs": [],
   "source": [
    "from sqlalchemy import create_engine\n",
    "import pandas as pd"
   ]
  },
  {
   "cell_type": "code",
   "execution_count": 8,
   "metadata": {},
   "outputs": [
    {
     "data": {
      "text/plain": [
       "\"\\ndef get_dataframe(x):\\n    eng = create_engine(x)\\n    tables = eng.table_names()\\n    for i in enumerate(tables):\\n        i = pd.read_sql_table(i, con=eng)\\n    return \\n    \\nget_dataframe('sqlite:///../data/raw/frantamarit.db')\\n\""
      ]
     },
     "execution_count": 8,
     "metadata": {},
     "output_type": "execute_result"
    }
   ],
   "source": [
    "\"\"\"\n",
    "def get_dataframe(x):\n",
    "    eng = create_engine(x)\n",
    "    tables = eng.table_names()\n",
    "    for i in enumerate(tables):\n",
    "        i = pd.read_sql_table(i, con=eng)\n",
    "    return \n",
    "    \n",
    "get_dataframe('sqlite:///../data/raw/frantamarit.db')\n",
    "\"\"\""
   ]
  },
  {
   "cell_type": "markdown",
   "metadata": {},
   "source": [
    "2. Create engine and get data tables"
   ]
  },
  {
   "cell_type": "code",
   "execution_count": 9,
   "metadata": {},
   "outputs": [
    {
     "name": "stdout",
     "output_type": "stream",
     "text": [
      "['business_info', 'personal_info', 'rank_info']\n"
     ]
    }
   ],
   "source": [
    "#Review path\n",
    "eng = create_engine('sqlite:///../data/raw/frantamarit.db')\n",
    "table_names = eng.table_names()\n",
    "print(table_names)"
   ]
  },
  {
   "cell_type": "markdown",
   "metadata": {},
   "source": [
    "3. Creating data frames for each table"
   ]
  },
  {
   "cell_type": "code",
   "execution_count": 10,
   "metadata": {},
   "outputs": [],
   "source": [
    "rank_info = pd.read_sql_table('rank_info', con=eng)\n",
    "personal_info = pd.read_sql_table('personal_info', con=eng)\n",
    "business_info = pd.read_sql_table('business_info', con=eng)"
   ]
  },
  {
   "cell_type": "code",
   "execution_count": 11,
   "metadata": {},
   "outputs": [
    {
     "name": "stdout",
     "output_type": "stream",
     "text": [
      "id            2260\n",
      "name          2260\n",
      "position      2208\n",
      "Unnamed: 0    2260\n",
      "dtype: int64\n",
      "id            2208\n",
      "lastName      2208\n",
      "age           2143\n",
      "Unnamed: 0    2208\n",
      "gender        2195\n",
      "country       2208\n",
      "image         2208\n",
      "dtype: int64\n"
     ]
    }
   ],
   "source": [
    "print(rank_info.notnull().sum())\n",
    "print(personal_info.notnull().sum())"
   ]
  },
  {
   "cell_type": "code",
   "execution_count": 28,
   "metadata": {},
   "outputs": [],
   "source": [
    "rank_info.drop('Unnamed: 0', axis=1, inplace=True)\n",
    "personal_info.drop('Unnamed: 0', axis=1, inplace=True)\n",
    "business_info.drop('Unnamed: 0', axis=1, inplace=True)"
   ]
  },
  {
   "cell_type": "code",
   "execution_count": 31,
   "metadata": {},
   "outputs": [
    {
     "data": {
      "text/html": [
       "<div>\n",
       "<style scoped>\n",
       "    .dataframe tbody tr th:only-of-type {\n",
       "        vertical-align: middle;\n",
       "    }\n",
       "\n",
       "    .dataframe tbody tr th {\n",
       "        vertical-align: top;\n",
       "    }\n",
       "\n",
       "    .dataframe thead th {\n",
       "        text-align: right;\n",
       "    }\n",
       "</style>\n",
       "<table border=\"1\" class=\"dataframe\">\n",
       "  <thead>\n",
       "    <tr style=\"text-align: right;\">\n",
       "      <th></th>\n",
       "      <th>id</th>\n",
       "      <th>lastName</th>\n",
       "      <th>age</th>\n",
       "      <th>gender</th>\n",
       "      <th>country</th>\n",
       "      <th>image</th>\n",
       "    </tr>\n",
       "  </thead>\n",
       "  <tbody>\n",
       "    <tr>\n",
       "      <th>0</th>\n",
       "      <td>6528</td>\n",
       "      <td>beZOS</td>\n",
       "      <td>54 years old</td>\n",
       "      <td>M</td>\n",
       "      <td>None</td>\n",
       "      <td>https://specials-images.forbesimg.com/imageser...</td>\n",
       "    </tr>\n",
       "    <tr>\n",
       "      <th>1</th>\n",
       "      <td>5875</td>\n",
       "      <td>gaTES</td>\n",
       "      <td>62 years old</td>\n",
       "      <td>None</td>\n",
       "      <td>United States</td>\n",
       "      <td>https://specials-images.forbesimg.com/imageser...</td>\n",
       "    </tr>\n",
       "    <tr>\n",
       "      <th>2</th>\n",
       "      <td>8760</td>\n",
       "      <td>buFFEtt</td>\n",
       "      <td>87 years old</td>\n",
       "      <td>None</td>\n",
       "      <td>United States</td>\n",
       "      <td>https://specials-images.forbesimg.com/imageser...</td>\n",
       "    </tr>\n",
       "    <tr>\n",
       "      <th>3</th>\n",
       "      <td>4685</td>\n",
       "      <td>aRNAULT</td>\n",
       "      <td>69 years old</td>\n",
       "      <td>M</td>\n",
       "      <td>None</td>\n",
       "      <td>https://specials-images.forbesimg.com/imageser...</td>\n",
       "    </tr>\n",
       "    <tr>\n",
       "      <th>4</th>\n",
       "      <td>8584</td>\n",
       "      <td>zUCKERBERG</td>\n",
       "      <td>1985</td>\n",
       "      <td>M</td>\n",
       "      <td>United States</td>\n",
       "      <td>https://specials-images.forbesimg.com/imageser...</td>\n",
       "    </tr>\n",
       "  </tbody>\n",
       "</table>\n",
       "</div>"
      ],
      "text/plain": [
       "     id    lastName           age gender        country  \\\n",
       "0  6528       beZOS  54 years old      M           None   \n",
       "1  5875       gaTES  62 years old   None  United States   \n",
       "2  8760     buFFEtt  87 years old   None  United States   \n",
       "3  4685     aRNAULT  69 years old      M           None   \n",
       "4  8584  zUCKERBERG          1985      M  United States   \n",
       "\n",
       "                                               image  \n",
       "0  https://specials-images.forbesimg.com/imageser...  \n",
       "1  https://specials-images.forbesimg.com/imageser...  \n",
       "2  https://specials-images.forbesimg.com/imageser...  \n",
       "3  https://specials-images.forbesimg.com/imageser...  \n",
       "4  https://specials-images.forbesimg.com/imageser...  "
      ]
     },
     "execution_count": 31,
     "metadata": {},
     "output_type": "execute_result"
    }
   ],
   "source": [
    "personal_info.head()"
   ]
  },
  {
   "cell_type": "code",
   "execution_count": 37,
   "metadata": {},
   "outputs": [
    {
     "data": {
      "text/html": [
       "<div>\n",
       "<style scoped>\n",
       "    .dataframe tbody tr th:only-of-type {\n",
       "        vertical-align: middle;\n",
       "    }\n",
       "\n",
       "    .dataframe tbody tr th {\n",
       "        vertical-align: top;\n",
       "    }\n",
       "\n",
       "    .dataframe thead th {\n",
       "        text-align: right;\n",
       "    }\n",
       "</style>\n",
       "<table border=\"1\" class=\"dataframe\">\n",
       "  <thead>\n",
       "    <tr style=\"text-align: right;\">\n",
       "      <th></th>\n",
       "      <th>id</th>\n",
       "      <th>name</th>\n",
       "      <th>position</th>\n",
       "      <th>lastName</th>\n",
       "      <th>age</th>\n",
       "      <th>gender</th>\n",
       "      <th>country</th>\n",
       "      <th>image</th>\n",
       "      <th>Source</th>\n",
       "      <th>worth</th>\n",
       "      <th>worthChange</th>\n",
       "      <th>realTimeWorth</th>\n",
       "      <th>realTimePosition</th>\n",
       "    </tr>\n",
       "  </thead>\n",
       "  <tbody>\n",
       "    <tr>\n",
       "      <th>0</th>\n",
       "      <td>6528</td>\n",
       "      <td>jeff BEZos</td>\n",
       "      <td>1.0</td>\n",
       "      <td>beZOS</td>\n",
       "      <td>54 years old</td>\n",
       "      <td>M</td>\n",
       "      <td>None</td>\n",
       "      <td>https://specials-images.forbesimg.com/imageser...</td>\n",
       "      <td>Technology  ==&gt; Amazon</td>\n",
       "      <td>112.0 BUSD</td>\n",
       "      <td>0.0 millions USD</td>\n",
       "      <td>NaN</td>\n",
       "      <td>1</td>\n",
       "    </tr>\n",
       "    <tr>\n",
       "      <th>1</th>\n",
       "      <td>5875</td>\n",
       "      <td>bILL GATes</td>\n",
       "      <td>2.0</td>\n",
       "      <td>gaTES</td>\n",
       "      <td>62 years old</td>\n",
       "      <td>None</td>\n",
       "      <td>United States</td>\n",
       "      <td>https://specials-images.forbesimg.com/imageser...</td>\n",
       "      <td>Technology  ==&gt; Microsoft</td>\n",
       "      <td>90.0 BUSD</td>\n",
       "      <td>-0.001 millions USD</td>\n",
       "      <td>NaN</td>\n",
       "      <td>2</td>\n",
       "    </tr>\n",
       "    <tr>\n",
       "      <th>2</th>\n",
       "      <td>8760</td>\n",
       "      <td>warREN BUFFett</td>\n",
       "      <td>3.0</td>\n",
       "      <td>buFFEtt</td>\n",
       "      <td>87 years old</td>\n",
       "      <td>None</td>\n",
       "      <td>United States</td>\n",
       "      <td>https://specials-images.forbesimg.com/imageser...</td>\n",
       "      <td>Finance and Investments  ==&gt; Berkshire Hathaway</td>\n",
       "      <td>84.0 BUSD</td>\n",
       "      <td>-0.002 millions USD</td>\n",
       "      <td>NaN</td>\n",
       "      <td>3</td>\n",
       "    </tr>\n",
       "    <tr>\n",
       "      <th>3</th>\n",
       "      <td>4685</td>\n",
       "      <td>bERNARD ARnault</td>\n",
       "      <td>4.0</td>\n",
       "      <td>aRNAULT</td>\n",
       "      <td>69 years old</td>\n",
       "      <td>M</td>\n",
       "      <td>None</td>\n",
       "      <td>https://specials-images.forbesimg.com/imageser...</td>\n",
       "      <td>Fashion &amp; Retail  ==&gt; LVMH</td>\n",
       "      <td>72.0 BUSD</td>\n",
       "      <td>0.0 millions USD</td>\n",
       "      <td>NaN</td>\n",
       "      <td>4</td>\n",
       "    </tr>\n",
       "    <tr>\n",
       "      <th>4</th>\n",
       "      <td>8584</td>\n",
       "      <td>mark ZUCKERberg</td>\n",
       "      <td>5.0</td>\n",
       "      <td>zUCKERBERG</td>\n",
       "      <td>1985</td>\n",
       "      <td>M</td>\n",
       "      <td>United States</td>\n",
       "      <td>https://specials-images.forbesimg.com/imageser...</td>\n",
       "      <td>Technology  ==&gt; Facebook</td>\n",
       "      <td>71.0 BUSD</td>\n",
       "      <td>0.0 millions USD</td>\n",
       "      <td>NaN</td>\n",
       "      <td>5</td>\n",
       "    </tr>\n",
       "  </tbody>\n",
       "</table>\n",
       "</div>"
      ],
      "text/plain": [
       "     id             name  position    lastName           age gender  \\\n",
       "0  6528       jeff BEZos       1.0       beZOS  54 years old      M   \n",
       "1  5875       bILL GATes       2.0       gaTES  62 years old   None   \n",
       "2  8760   warREN BUFFett       3.0     buFFEtt  87 years old   None   \n",
       "3  4685  bERNARD ARnault       4.0     aRNAULT  69 years old      M   \n",
       "4  8584  mark ZUCKERberg       5.0  zUCKERBERG          1985      M   \n",
       "\n",
       "         country                                              image  \\\n",
       "0           None  https://specials-images.forbesimg.com/imageser...   \n",
       "1  United States  https://specials-images.forbesimg.com/imageser...   \n",
       "2  United States  https://specials-images.forbesimg.com/imageser...   \n",
       "3           None  https://specials-images.forbesimg.com/imageser...   \n",
       "4  United States  https://specials-images.forbesimg.com/imageser...   \n",
       "\n",
       "                                            Source       worth  \\\n",
       "0                           Technology  ==> Amazon  112.0 BUSD   \n",
       "1                        Technology  ==> Microsoft   90.0 BUSD   \n",
       "2  Finance and Investments  ==> Berkshire Hathaway   84.0 BUSD   \n",
       "3                       Fashion & Retail  ==> LVMH   72.0 BUSD   \n",
       "4                         Technology  ==> Facebook   71.0 BUSD   \n",
       "\n",
       "           worthChange  realTimeWorth  realTimePosition  \n",
       "0     0.0 millions USD            NaN                 1  \n",
       "1  -0.001 millions USD            NaN                 2  \n",
       "2  -0.002 millions USD            NaN                 3  \n",
       "3     0.0 millions USD            NaN                 4  \n",
       "4     0.0 millions USD            NaN                 5  "
      ]
     },
     "execution_count": 37,
     "metadata": {},
     "output_type": "execute_result"
    }
   ],
   "source": [
    "partial_info = pd.merge(rank_info, personal_info, on='id', how='inner')\n",
    "master_info = pd.merge(partial_info, business_info, on='id', how='inner')\n",
    "master_info.head()\n"
   ]
  },
  {
   "cell_type": "code",
   "execution_count": 69,
   "metadata": {},
   "outputs": [
    {
     "ename": "KeyError",
     "evalue": "\"None of [Index(['name', 'lastName'], dtype='object')] are in the [columns]\"",
     "output_type": "error",
     "traceback": [
      "\u001b[0;31m---------------------------------------------------------------------------\u001b[0m",
      "\u001b[0;31mKeyError\u001b[0m                                  Traceback (most recent call last)",
      "\u001b[0;32m<ipython-input-69-09f461976131>\u001b[0m in \u001b[0;36m<module>\u001b[0;34m\u001b[0m\n\u001b[1;32m      1\u001b[0m \u001b[0;31m#Cleaning and lowercasing name and lastName features\u001b[0m\u001b[0;34m\u001b[0m\u001b[0;34m\u001b[0m\u001b[0;34m\u001b[0m\u001b[0m\n\u001b[1;32m      2\u001b[0m \u001b[0mmaster_info\u001b[0m\u001b[0;34m[\u001b[0m\u001b[0;34m[\u001b[0m\u001b[0;34m'name'\u001b[0m\u001b[0;34m,\u001b[0m\u001b[0;34m'lastName'\u001b[0m\u001b[0;34m]\u001b[0m\u001b[0;34m]\u001b[0m \u001b[0;34m=\u001b[0m\u001b[0;31m \u001b[0m\u001b[0;31m\\\u001b[0m\u001b[0;34m\u001b[0m\u001b[0;34m\u001b[0m\u001b[0m\n\u001b[0;32m----> 3\u001b[0;31m \u001b[0mmaster_info\u001b[0m\u001b[0;34m[\u001b[0m\u001b[0;34m[\u001b[0m\u001b[0;34m'name'\u001b[0m\u001b[0;34m,\u001b[0m\u001b[0;34m'lastName'\u001b[0m\u001b[0;34m]\u001b[0m\u001b[0;34m]\u001b[0m\u001b[0;34m.\u001b[0m\u001b[0mapply\u001b[0m\u001b[0;34m(\u001b[0m\u001b[0;32mlambda\u001b[0m \u001b[0mx\u001b[0m\u001b[0;34m:\u001b[0m \u001b[0mx\u001b[0m\u001b[0;34m.\u001b[0m\u001b[0mastype\u001b[0m\u001b[0;34m(\u001b[0m\u001b[0mstr\u001b[0m\u001b[0;34m)\u001b[0m\u001b[0;34m.\u001b[0m\u001b[0mstr\u001b[0m\u001b[0;34m.\u001b[0m\u001b[0mlower\u001b[0m\u001b[0;34m(\u001b[0m\u001b[0;34m)\u001b[0m\u001b[0;34m)\u001b[0m\u001b[0;34m\u001b[0m\u001b[0;34m\u001b[0m\u001b[0m\n\u001b[0m",
      "\u001b[0;32m~/miniconda3/envs/data_env/lib/python3.7/site-packages/pandas/core/frame.py\u001b[0m in \u001b[0;36m__getitem__\u001b[0;34m(self, key)\u001b[0m\n\u001b[1;32m   2999\u001b[0m             \u001b[0;32mif\u001b[0m \u001b[0mis_iterator\u001b[0m\u001b[0;34m(\u001b[0m\u001b[0mkey\u001b[0m\u001b[0;34m)\u001b[0m\u001b[0;34m:\u001b[0m\u001b[0;34m\u001b[0m\u001b[0;34m\u001b[0m\u001b[0m\n\u001b[1;32m   3000\u001b[0m                 \u001b[0mkey\u001b[0m \u001b[0;34m=\u001b[0m \u001b[0mlist\u001b[0m\u001b[0;34m(\u001b[0m\u001b[0mkey\u001b[0m\u001b[0;34m)\u001b[0m\u001b[0;34m\u001b[0m\u001b[0;34m\u001b[0m\u001b[0m\n\u001b[0;32m-> 3001\u001b[0;31m             \u001b[0mindexer\u001b[0m \u001b[0;34m=\u001b[0m \u001b[0mself\u001b[0m\u001b[0;34m.\u001b[0m\u001b[0mloc\u001b[0m\u001b[0;34m.\u001b[0m\u001b[0m_convert_to_indexer\u001b[0m\u001b[0;34m(\u001b[0m\u001b[0mkey\u001b[0m\u001b[0;34m,\u001b[0m \u001b[0maxis\u001b[0m\u001b[0;34m=\u001b[0m\u001b[0;36m1\u001b[0m\u001b[0;34m,\u001b[0m \u001b[0mraise_missing\u001b[0m\u001b[0;34m=\u001b[0m\u001b[0;32mTrue\u001b[0m\u001b[0;34m)\u001b[0m\u001b[0;34m\u001b[0m\u001b[0;34m\u001b[0m\u001b[0m\n\u001b[0m\u001b[1;32m   3002\u001b[0m \u001b[0;34m\u001b[0m\u001b[0m\n\u001b[1;32m   3003\u001b[0m         \u001b[0;31m# take() does not accept boolean indexers\u001b[0m\u001b[0;34m\u001b[0m\u001b[0;34m\u001b[0m\u001b[0;34m\u001b[0m\u001b[0m\n",
      "\u001b[0;32m~/miniconda3/envs/data_env/lib/python3.7/site-packages/pandas/core/indexing.py\u001b[0m in \u001b[0;36m_convert_to_indexer\u001b[0;34m(self, obj, axis, is_setter, raise_missing)\u001b[0m\n\u001b[1;32m   1283\u001b[0m                 \u001b[0;31m# When setting, missing keys are not allowed, even with .loc:\u001b[0m\u001b[0;34m\u001b[0m\u001b[0;34m\u001b[0m\u001b[0;34m\u001b[0m\u001b[0m\n\u001b[1;32m   1284\u001b[0m                 \u001b[0mkwargs\u001b[0m \u001b[0;34m=\u001b[0m \u001b[0;34m{\u001b[0m\u001b[0;34m\"raise_missing\"\u001b[0m\u001b[0;34m:\u001b[0m \u001b[0;32mTrue\u001b[0m \u001b[0;32mif\u001b[0m \u001b[0mis_setter\u001b[0m \u001b[0;32melse\u001b[0m \u001b[0mraise_missing\u001b[0m\u001b[0;34m}\u001b[0m\u001b[0;34m\u001b[0m\u001b[0;34m\u001b[0m\u001b[0m\n\u001b[0;32m-> 1285\u001b[0;31m                 \u001b[0;32mreturn\u001b[0m \u001b[0mself\u001b[0m\u001b[0;34m.\u001b[0m\u001b[0m_get_listlike_indexer\u001b[0m\u001b[0;34m(\u001b[0m\u001b[0mobj\u001b[0m\u001b[0;34m,\u001b[0m \u001b[0maxis\u001b[0m\u001b[0;34m,\u001b[0m \u001b[0;34m**\u001b[0m\u001b[0mkwargs\u001b[0m\u001b[0;34m)\u001b[0m\u001b[0;34m[\u001b[0m\u001b[0;36m1\u001b[0m\u001b[0;34m]\u001b[0m\u001b[0;34m\u001b[0m\u001b[0;34m\u001b[0m\u001b[0m\n\u001b[0m\u001b[1;32m   1286\u001b[0m         \u001b[0;32melse\u001b[0m\u001b[0;34m:\u001b[0m\u001b[0;34m\u001b[0m\u001b[0;34m\u001b[0m\u001b[0m\n\u001b[1;32m   1287\u001b[0m             \u001b[0;32mtry\u001b[0m\u001b[0;34m:\u001b[0m\u001b[0;34m\u001b[0m\u001b[0;34m\u001b[0m\u001b[0m\n",
      "\u001b[0;32m~/miniconda3/envs/data_env/lib/python3.7/site-packages/pandas/core/indexing.py\u001b[0m in \u001b[0;36m_get_listlike_indexer\u001b[0;34m(self, key, axis, raise_missing)\u001b[0m\n\u001b[1;32m   1090\u001b[0m \u001b[0;34m\u001b[0m\u001b[0m\n\u001b[1;32m   1091\u001b[0m         self._validate_read_indexer(\n\u001b[0;32m-> 1092\u001b[0;31m             \u001b[0mkeyarr\u001b[0m\u001b[0;34m,\u001b[0m \u001b[0mindexer\u001b[0m\u001b[0;34m,\u001b[0m \u001b[0mo\u001b[0m\u001b[0;34m.\u001b[0m\u001b[0m_get_axis_number\u001b[0m\u001b[0;34m(\u001b[0m\u001b[0maxis\u001b[0m\u001b[0;34m)\u001b[0m\u001b[0;34m,\u001b[0m \u001b[0mraise_missing\u001b[0m\u001b[0;34m=\u001b[0m\u001b[0mraise_missing\u001b[0m\u001b[0;34m\u001b[0m\u001b[0;34m\u001b[0m\u001b[0m\n\u001b[0m\u001b[1;32m   1093\u001b[0m         )\n\u001b[1;32m   1094\u001b[0m         \u001b[0;32mreturn\u001b[0m \u001b[0mkeyarr\u001b[0m\u001b[0;34m,\u001b[0m \u001b[0mindexer\u001b[0m\u001b[0;34m\u001b[0m\u001b[0;34m\u001b[0m\u001b[0m\n",
      "\u001b[0;32m~/miniconda3/envs/data_env/lib/python3.7/site-packages/pandas/core/indexing.py\u001b[0m in \u001b[0;36m_validate_read_indexer\u001b[0;34m(self, key, indexer, axis, raise_missing)\u001b[0m\n\u001b[1;32m   1175\u001b[0m                 raise KeyError(\n\u001b[1;32m   1176\u001b[0m                     \"None of [{key}] are in the [{axis}]\".format(\n\u001b[0;32m-> 1177\u001b[0;31m                         \u001b[0mkey\u001b[0m\u001b[0;34m=\u001b[0m\u001b[0mkey\u001b[0m\u001b[0;34m,\u001b[0m \u001b[0maxis\u001b[0m\u001b[0;34m=\u001b[0m\u001b[0mself\u001b[0m\u001b[0;34m.\u001b[0m\u001b[0mobj\u001b[0m\u001b[0;34m.\u001b[0m\u001b[0m_get_axis_name\u001b[0m\u001b[0;34m(\u001b[0m\u001b[0maxis\u001b[0m\u001b[0;34m)\u001b[0m\u001b[0;34m\u001b[0m\u001b[0;34m\u001b[0m\u001b[0m\n\u001b[0m\u001b[1;32m   1178\u001b[0m                     )\n\u001b[1;32m   1179\u001b[0m                 )\n",
      "\u001b[0;31mKeyError\u001b[0m: \"None of [Index(['name', 'lastName'], dtype='object')] are in the [columns]\""
     ]
    }
   ],
   "source": [
    "#Cleaning and lowercasing name and lastName features\n",
    "master_info[['name','lastName']] = \\\n",
    "master_info[['name','lastName']].apply(lambda x: x.astype(str).str.lower())"
   ]
  },
  {
   "cell_type": "code",
   "execution_count": 63,
   "metadata": {},
   "outputs": [
    {
     "data": {
      "text/plain": [
       "id                     0\n",
       "full_name              0\n",
       "position               0\n",
       "last_name              0\n",
       "age                   65\n",
       "gender                13\n",
       "country                0\n",
       "image                  0\n",
       "source                 0\n",
       "worth                  0\n",
       "worthChange            0\n",
       "realTimeWorth       2208\n",
       "realTimePosition       0\n",
       "dtype: int64"
      ]
     },
     "execution_count": 63,
     "metadata": {},
     "output_type": "execute_result"
    }
   ],
   "source": [
    "master_info.isnull().sum()"
   ]
  },
  {
   "cell_type": "code",
   "execution_count": 60,
   "metadata": {},
   "outputs": [],
   "source": [
    "#Renaming feature names\n",
    "master_info.rename(index={e: e+1 for e in range(len(master_info))}, \n",
    "                columns={'name': 'full_name', \n",
    "                         'lastName': 'last_name',\n",
    "                        'Source': 'source'}, \n",
    "                inplace=True)"
   ]
  },
  {
   "cell_type": "code",
   "execution_count": 61,
   "metadata": {},
   "outputs": [
    {
     "data": {
      "text/html": [
       "<div>\n",
       "<style scoped>\n",
       "    .dataframe tbody tr th:only-of-type {\n",
       "        vertical-align: middle;\n",
       "    }\n",
       "\n",
       "    .dataframe tbody tr th {\n",
       "        vertical-align: top;\n",
       "    }\n",
       "\n",
       "    .dataframe thead th {\n",
       "        text-align: right;\n",
       "    }\n",
       "</style>\n",
       "<table border=\"1\" class=\"dataframe\">\n",
       "  <thead>\n",
       "    <tr style=\"text-align: right;\">\n",
       "      <th></th>\n",
       "      <th>id</th>\n",
       "      <th>full_name</th>\n",
       "      <th>position</th>\n",
       "      <th>last_name</th>\n",
       "      <th>age</th>\n",
       "      <th>gender</th>\n",
       "      <th>country</th>\n",
       "      <th>image</th>\n",
       "      <th>source</th>\n",
       "      <th>worth</th>\n",
       "      <th>worthChange</th>\n",
       "      <th>realTimeWorth</th>\n",
       "      <th>realTimePosition</th>\n",
       "    </tr>\n",
       "  </thead>\n",
       "  <tbody>\n",
       "    <tr>\n",
       "      <th>1</th>\n",
       "      <td>6528</td>\n",
       "      <td>jeff bezos</td>\n",
       "      <td>1.0</td>\n",
       "      <td>bezos</td>\n",
       "      <td>54 years old</td>\n",
       "      <td>M</td>\n",
       "      <td>None</td>\n",
       "      <td>https://specials-images.forbesimg.com/imageser...</td>\n",
       "      <td>Technology  ==&gt; Amazon</td>\n",
       "      <td>112.0 BUSD</td>\n",
       "      <td>0.0 millions USD</td>\n",
       "      <td>NaN</td>\n",
       "      <td>1</td>\n",
       "    </tr>\n",
       "    <tr>\n",
       "      <th>2</th>\n",
       "      <td>5875</td>\n",
       "      <td>bill gates</td>\n",
       "      <td>2.0</td>\n",
       "      <td>gates</td>\n",
       "      <td>62 years old</td>\n",
       "      <td>None</td>\n",
       "      <td>United States</td>\n",
       "      <td>https://specials-images.forbesimg.com/imageser...</td>\n",
       "      <td>Technology  ==&gt; Microsoft</td>\n",
       "      <td>90.0 BUSD</td>\n",
       "      <td>-0.001 millions USD</td>\n",
       "      <td>NaN</td>\n",
       "      <td>2</td>\n",
       "    </tr>\n",
       "    <tr>\n",
       "      <th>3</th>\n",
       "      <td>8760</td>\n",
       "      <td>warren buffett</td>\n",
       "      <td>3.0</td>\n",
       "      <td>buffett</td>\n",
       "      <td>87 years old</td>\n",
       "      <td>None</td>\n",
       "      <td>United States</td>\n",
       "      <td>https://specials-images.forbesimg.com/imageser...</td>\n",
       "      <td>Finance and Investments  ==&gt; Berkshire Hathaway</td>\n",
       "      <td>84.0 BUSD</td>\n",
       "      <td>-0.002 millions USD</td>\n",
       "      <td>NaN</td>\n",
       "      <td>3</td>\n",
       "    </tr>\n",
       "    <tr>\n",
       "      <th>4</th>\n",
       "      <td>4685</td>\n",
       "      <td>bernard arnault</td>\n",
       "      <td>4.0</td>\n",
       "      <td>arnault</td>\n",
       "      <td>69 years old</td>\n",
       "      <td>M</td>\n",
       "      <td>None</td>\n",
       "      <td>https://specials-images.forbesimg.com/imageser...</td>\n",
       "      <td>Fashion &amp; Retail  ==&gt; LVMH</td>\n",
       "      <td>72.0 BUSD</td>\n",
       "      <td>0.0 millions USD</td>\n",
       "      <td>NaN</td>\n",
       "      <td>4</td>\n",
       "    </tr>\n",
       "    <tr>\n",
       "      <th>5</th>\n",
       "      <td>8584</td>\n",
       "      <td>mark zuckerberg</td>\n",
       "      <td>5.0</td>\n",
       "      <td>zuckerberg</td>\n",
       "      <td>1985</td>\n",
       "      <td>M</td>\n",
       "      <td>United States</td>\n",
       "      <td>https://specials-images.forbesimg.com/imageser...</td>\n",
       "      <td>Technology  ==&gt; Facebook</td>\n",
       "      <td>71.0 BUSD</td>\n",
       "      <td>0.0 millions USD</td>\n",
       "      <td>NaN</td>\n",
       "      <td>5</td>\n",
       "    </tr>\n",
       "  </tbody>\n",
       "</table>\n",
       "</div>"
      ],
      "text/plain": [
       "     id        full_name  position   last_name           age gender  \\\n",
       "1  6528       jeff bezos       1.0       bezos  54 years old      M   \n",
       "2  5875       bill gates       2.0       gates  62 years old   None   \n",
       "3  8760   warren buffett       3.0     buffett  87 years old   None   \n",
       "4  4685  bernard arnault       4.0     arnault  69 years old      M   \n",
       "5  8584  mark zuckerberg       5.0  zuckerberg          1985      M   \n",
       "\n",
       "         country                                              image  \\\n",
       "1           None  https://specials-images.forbesimg.com/imageser...   \n",
       "2  United States  https://specials-images.forbesimg.com/imageser...   \n",
       "3  United States  https://specials-images.forbesimg.com/imageser...   \n",
       "4           None  https://specials-images.forbesimg.com/imageser...   \n",
       "5  United States  https://specials-images.forbesimg.com/imageser...   \n",
       "\n",
       "                                            source       worth  \\\n",
       "1                           Technology  ==> Amazon  112.0 BUSD   \n",
       "2                        Technology  ==> Microsoft   90.0 BUSD   \n",
       "3  Finance and Investments  ==> Berkshire Hathaway   84.0 BUSD   \n",
       "4                       Fashion & Retail  ==> LVMH   72.0 BUSD   \n",
       "5                         Technology  ==> Facebook   71.0 BUSD   \n",
       "\n",
       "           worthChange  realTimeWorth  realTimePosition  \n",
       "1     0.0 millions USD            NaN                 1  \n",
       "2  -0.001 millions USD            NaN                 2  \n",
       "3  -0.002 millions USD            NaN                 3  \n",
       "4     0.0 millions USD            NaN                 4  \n",
       "5     0.0 millions USD            NaN                 5  "
      ]
     },
     "execution_count": 61,
     "metadata": {},
     "output_type": "execute_result"
    }
   ],
   "source": [
    "master_info.head()"
   ]
  }
 ],
 "metadata": {
  "kernelspec": {
   "display_name": "Python [conda env:data_env]",
   "language": "python",
   "name": "conda-env-data_env-py"
  },
  "language_info": {
   "codemirror_mode": {
    "name": "ipython",
    "version": 3
   },
   "file_extension": ".py",
   "mimetype": "text/x-python",
   "name": "python",
   "nbconvert_exporter": "python",
   "pygments_lexer": "ipython3",
   "version": "3.7.5"
  }
 },
 "nbformat": 4,
 "nbformat_minor": 4
}
