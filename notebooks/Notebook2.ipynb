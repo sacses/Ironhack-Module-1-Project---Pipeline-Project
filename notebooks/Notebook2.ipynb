{
 "cells": [
  {
   "cell_type": "code",
   "execution_count": 1,
   "metadata": {},
   "outputs": [],
   "source": [
    "import json\n",
    "import requests\n",
    "import pandas as pd"
   ]
  },
  {
   "cell_type": "code",
   "execution_count": 2,
   "metadata": {},
   "outputs": [],
   "source": [
    "url = 'https://en.wikipedia.org/wiki/List_of_countries_by_research_and_development_spending'"
   ]
  },
  {
   "cell_type": "code",
   "execution_count": 3,
   "metadata": {},
   "outputs": [],
   "source": [
    "rnd_spending = pd.read_html(url)[0]"
   ]
  },
  {
   "cell_type": "code",
   "execution_count": 12,
   "metadata": {},
   "outputs": [
    {
     "data": {
      "text/html": [
       "<div>\n",
       "<style scoped>\n",
       "    .dataframe tbody tr th:only-of-type {\n",
       "        vertical-align: middle;\n",
       "    }\n",
       "\n",
       "    .dataframe tbody tr th {\n",
       "        vertical-align: top;\n",
       "    }\n",
       "\n",
       "    .dataframe thead th {\n",
       "        text-align: right;\n",
       "    }\n",
       "</style>\n",
       "<table border=\"1\" class=\"dataframe\">\n",
       "  <thead>\n",
       "    <tr style=\"text-align: right;\">\n",
       "      <th>1</th>\n",
       "      <th>country</th>\n",
       "      <th>r&amp;dExpense_billions</th>\n",
       "      <th>%GDP</th>\n",
       "      <th>r&amp;dExpensePerCapita</th>\n",
       "      <th>Year</th>\n",
       "      <th>Source</th>\n",
       "    </tr>\n",
       "  </thead>\n",
       "  <tbody>\n",
       "    <tr>\n",
       "      <th>0</th>\n",
       "      <td>China</td>\n",
       "      <td>553.4</td>\n",
       "      <td>2.19%</td>\n",
       "      <td>388</td>\n",
       "      <td>2018</td>\n",
       "      <td>[2]</td>\n",
       "    </tr>\n",
       "    <tr>\n",
       "      <th>1</th>\n",
       "      <td>United States</td>\n",
       "      <td>511.1</td>\n",
       "      <td>2.744%</td>\n",
       "      <td>1586.35</td>\n",
       "      <td>2016</td>\n",
       "      <td>[3]</td>\n",
       "    </tr>\n",
       "    <tr>\n",
       "      <th>2</th>\n",
       "      <td>European Union*</td>\n",
       "      <td>379.0</td>\n",
       "      <td>1.64%</td>\n",
       "      <td>658.94</td>\n",
       "      <td>2016</td>\n",
       "      <td>[3]</td>\n",
       "    </tr>\n",
       "    <tr>\n",
       "      <th>3</th>\n",
       "      <td>Japan</td>\n",
       "      <td>165.7</td>\n",
       "      <td>3.147%</td>\n",
       "      <td>1297.39</td>\n",
       "      <td>2016</td>\n",
       "      <td>[3]</td>\n",
       "    </tr>\n",
       "    <tr>\n",
       "      <th>4</th>\n",
       "      <td>Germany</td>\n",
       "      <td>118.8</td>\n",
       "      <td>2.94%</td>\n",
       "      <td>1450.17</td>\n",
       "      <td>2016</td>\n",
       "      <td>[3]</td>\n",
       "    </tr>\n",
       "    <tr>\n",
       "      <th>...</th>\n",
       "      <td>...</td>\n",
       "      <td>...</td>\n",
       "      <td>...</td>\n",
       "      <td>...</td>\n",
       "      <td>...</td>\n",
       "      <td>...</td>\n",
       "    </tr>\n",
       "    <tr>\n",
       "      <th>86</th>\n",
       "      <td>Moldova</td>\n",
       "      <td>0.06</td>\n",
       "      <td>0.35%</td>\n",
       "      <td>16.44</td>\n",
       "      <td>2013</td>\n",
       "      <td>[7]</td>\n",
       "    </tr>\n",
       "    <tr>\n",
       "      <th>87</th>\n",
       "      <td>Bahrain</td>\n",
       "      <td>0.06</td>\n",
       "      <td>0.100%</td>\n",
       "      <td>45.2</td>\n",
       "      <td>2014</td>\n",
       "      <td>[6]</td>\n",
       "    </tr>\n",
       "    <tr>\n",
       "      <th>88</th>\n",
       "      <td>Paraguay</td>\n",
       "      <td>0.06</td>\n",
       "      <td>0.13%</td>\n",
       "      <td>9.13</td>\n",
       "      <td>2015</td>\n",
       "      <td>[3][8]</td>\n",
       "    </tr>\n",
       "    <tr>\n",
       "      <th>89</th>\n",
       "      <td>Georgia</td>\n",
       "      <td>0.05</td>\n",
       "      <td>0.16%</td>\n",
       "      <td>14.73</td>\n",
       "      <td>2014</td>\n",
       "      <td>[7]</td>\n",
       "    </tr>\n",
       "    <tr>\n",
       "      <th>90</th>\n",
       "      <td>Montenegro</td>\n",
       "      <td>0.03</td>\n",
       "      <td>0.38%</td>\n",
       "      <td>55.75</td>\n",
       "      <td>2013</td>\n",
       "      <td>[15]</td>\n",
       "    </tr>\n",
       "  </tbody>\n",
       "</table>\n",
       "<p>91 rows × 6 columns</p>\n",
       "</div>"
      ],
      "text/plain": [
       "1           country r&dExpense_billions    %GDP r&dExpensePerCapita  Year  \\\n",
       "0             China               553.4   2.19%                 388  2018   \n",
       "1     United States               511.1  2.744%             1586.35  2016   \n",
       "2   European Union*               379.0   1.64%              658.94  2016   \n",
       "3             Japan               165.7  3.147%             1297.39  2016   \n",
       "4           Germany               118.8   2.94%             1450.17  2016   \n",
       "..              ...                 ...     ...                 ...   ...   \n",
       "86          Moldova                0.06   0.35%               16.44  2013   \n",
       "87          Bahrain                0.06  0.100%                45.2  2014   \n",
       "88         Paraguay                0.06   0.13%                9.13  2015   \n",
       "89          Georgia                0.05   0.16%               14.73  2014   \n",
       "90       Montenegro                0.03   0.38%               55.75  2013   \n",
       "\n",
       "1   Source  \n",
       "0      [2]  \n",
       "1      [3]  \n",
       "2      [3]  \n",
       "3      [3]  \n",
       "4      [3]  \n",
       "..     ...  \n",
       "86     [7]  \n",
       "87     [6]  \n",
       "88  [3][8]  \n",
       "89     [7]  \n",
       "90    [15]  \n",
       "\n",
       "[91 rows x 6 columns]"
      ]
     },
     "execution_count": 12,
     "metadata": {},
     "output_type": "execute_result"
    }
   ],
   "source": [
    "rnd_spending"
   ]
  },
  {
   "cell_type": "code",
   "execution_count": 5,
   "metadata": {},
   "outputs": [],
   "source": [
    "rnd_spending.columns = rnd_spending.iloc[1]"
   ]
  },
  {
   "cell_type": "code",
   "execution_count": 7,
   "metadata": {},
   "outputs": [],
   "source": [
    "rnd_spending.drop(rnd_spending.index[0:2], inplace=True)"
   ]
  },
  {
   "cell_type": "code",
   "execution_count": 9,
   "metadata": {},
   "outputs": [],
   "source": [
    "rnd_spending.reset_index(drop=True, inplace=True)"
   ]
  },
  {
   "cell_type": "code",
   "execution_count": 11,
   "metadata": {},
   "outputs": [],
   "source": [
    "rnd_spending.rename(columns={'Country/Region': 'country',\n",
    "                            'Expenditures on R&D (billions of US$, PPP),': 'r&dExpense_billions',\n",
    "                            '% of GDP PPP': '%GDP',\n",
    "                            'Expenditures on R&D per capita (US$ PPP),': 'r&dExpensePerCapita'}, inplace=True)"
   ]
  },
  {
   "cell_type": "code",
   "execution_count": 18,
   "metadata": {},
   "outputs": [],
   "source": [
    "def lowercase_feature(df, col):\n",
    "    return df[col].str.lower()"
   ]
  },
  {
   "cell_type": "code",
   "execution_count": 20,
   "metadata": {},
   "outputs": [],
   "source": [
    "rnd_spending['country'] = lowercase_feature(rnd_spending, 'country')"
   ]
  },
  {
   "cell_type": "code",
   "execution_count": 21,
   "metadata": {},
   "outputs": [
    {
     "data": {
      "text/html": [
       "<div>\n",
       "<style scoped>\n",
       "    .dataframe tbody tr th:only-of-type {\n",
       "        vertical-align: middle;\n",
       "    }\n",
       "\n",
       "    .dataframe tbody tr th {\n",
       "        vertical-align: top;\n",
       "    }\n",
       "\n",
       "    .dataframe thead th {\n",
       "        text-align: right;\n",
       "    }\n",
       "</style>\n",
       "<table border=\"1\" class=\"dataframe\">\n",
       "  <thead>\n",
       "    <tr style=\"text-align: right;\">\n",
       "      <th>1</th>\n",
       "      <th>country</th>\n",
       "      <th>r&amp;dExpense_billions</th>\n",
       "      <th>%GDP</th>\n",
       "      <th>r&amp;dExpensePerCapita</th>\n",
       "      <th>Year</th>\n",
       "      <th>Source</th>\n",
       "    </tr>\n",
       "  </thead>\n",
       "  <tbody>\n",
       "    <tr>\n",
       "      <th>0</th>\n",
       "      <td>china</td>\n",
       "      <td>553.40</td>\n",
       "      <td>2.190</td>\n",
       "      <td>388.00</td>\n",
       "      <td>2018</td>\n",
       "      <td>[2]</td>\n",
       "    </tr>\n",
       "    <tr>\n",
       "      <th>1</th>\n",
       "      <td>united states</td>\n",
       "      <td>511.10</td>\n",
       "      <td>2.744</td>\n",
       "      <td>1586.35</td>\n",
       "      <td>2016</td>\n",
       "      <td>[3]</td>\n",
       "    </tr>\n",
       "    <tr>\n",
       "      <th>2</th>\n",
       "      <td>european union*</td>\n",
       "      <td>379.00</td>\n",
       "      <td>1.640</td>\n",
       "      <td>658.94</td>\n",
       "      <td>2016</td>\n",
       "      <td>[3]</td>\n",
       "    </tr>\n",
       "    <tr>\n",
       "      <th>3</th>\n",
       "      <td>japan</td>\n",
       "      <td>165.70</td>\n",
       "      <td>3.147</td>\n",
       "      <td>1297.39</td>\n",
       "      <td>2016</td>\n",
       "      <td>[3]</td>\n",
       "    </tr>\n",
       "    <tr>\n",
       "      <th>4</th>\n",
       "      <td>germany</td>\n",
       "      <td>118.80</td>\n",
       "      <td>2.940</td>\n",
       "      <td>1450.17</td>\n",
       "      <td>2016</td>\n",
       "      <td>[3]</td>\n",
       "    </tr>\n",
       "    <tr>\n",
       "      <th>...</th>\n",
       "      <td>...</td>\n",
       "      <td>...</td>\n",
       "      <td>...</td>\n",
       "      <td>...</td>\n",
       "      <td>...</td>\n",
       "      <td>...</td>\n",
       "    </tr>\n",
       "    <tr>\n",
       "      <th>86</th>\n",
       "      <td>moldova</td>\n",
       "      <td>0.06</td>\n",
       "      <td>0.350</td>\n",
       "      <td>16.44</td>\n",
       "      <td>2013</td>\n",
       "      <td>[7]</td>\n",
       "    </tr>\n",
       "    <tr>\n",
       "      <th>87</th>\n",
       "      <td>bahrain</td>\n",
       "      <td>0.06</td>\n",
       "      <td>0.100</td>\n",
       "      <td>45.20</td>\n",
       "      <td>2014</td>\n",
       "      <td>[6]</td>\n",
       "    </tr>\n",
       "    <tr>\n",
       "      <th>88</th>\n",
       "      <td>paraguay</td>\n",
       "      <td>0.06</td>\n",
       "      <td>0.130</td>\n",
       "      <td>9.13</td>\n",
       "      <td>2015</td>\n",
       "      <td>[3][8]</td>\n",
       "    </tr>\n",
       "    <tr>\n",
       "      <th>89</th>\n",
       "      <td>georgia</td>\n",
       "      <td>0.05</td>\n",
       "      <td>0.160</td>\n",
       "      <td>14.73</td>\n",
       "      <td>2014</td>\n",
       "      <td>[7]</td>\n",
       "    </tr>\n",
       "    <tr>\n",
       "      <th>90</th>\n",
       "      <td>montenegro</td>\n",
       "      <td>0.03</td>\n",
       "      <td>0.380</td>\n",
       "      <td>55.75</td>\n",
       "      <td>2013</td>\n",
       "      <td>[15]</td>\n",
       "    </tr>\n",
       "  </tbody>\n",
       "</table>\n",
       "<p>91 rows × 6 columns</p>\n",
       "</div>"
      ],
      "text/plain": [
       "1           country  r&dExpense_billions   %GDP  r&dExpensePerCapita  Year  \\\n",
       "0             china               553.40  2.190               388.00  2018   \n",
       "1     united states               511.10  2.744              1586.35  2016   \n",
       "2   european union*               379.00  1.640               658.94  2016   \n",
       "3             japan               165.70  3.147              1297.39  2016   \n",
       "4           germany               118.80  2.940              1450.17  2016   \n",
       "..              ...                  ...    ...                  ...   ...   \n",
       "86          moldova                 0.06  0.350                16.44  2013   \n",
       "87          bahrain                 0.06  0.100                45.20  2014   \n",
       "88         paraguay                 0.06  0.130                 9.13  2015   \n",
       "89          georgia                 0.05  0.160                14.73  2014   \n",
       "90       montenegro                 0.03  0.380                55.75  2013   \n",
       "\n",
       "1   Source  \n",
       "0      [2]  \n",
       "1      [3]  \n",
       "2      [3]  \n",
       "3      [3]  \n",
       "4      [3]  \n",
       "..     ...  \n",
       "86     [7]  \n",
       "87     [6]  \n",
       "88  [3][8]  \n",
       "89     [7]  \n",
       "90    [15]  \n",
       "\n",
       "[91 rows x 6 columns]"
      ]
     },
     "execution_count": 21,
     "metadata": {},
     "output_type": "execute_result"
    }
   ],
   "source": [
    "rnd_spending"
   ]
  },
  {
   "cell_type": "code",
   "execution_count": 14,
   "metadata": {},
   "outputs": [],
   "source": [
    "def extract_float(df, col, regex):\n",
    "    return df[col].str.extract(regex).astype('float64')"
   ]
  },
  {
   "cell_type": "code",
   "execution_count": 15,
   "metadata": {},
   "outputs": [],
   "source": [
    "rnd_spending['%GDP'] = extract_float(rnd_spending,'%GDP',r\"(\\d+.?\\d*)\")"
   ]
  },
  {
   "cell_type": "code",
   "execution_count": 17,
   "metadata": {},
   "outputs": [],
   "source": [
    "rnd_spending[['r&dExpense_billions', 'r&dExpensePerCapita']] = rnd_spending[['r&dExpense_billions', 'r&dExpensePerCapita']].astype('float64')"
   ]
  },
  {
   "cell_type": "code",
   "execution_count": 68,
   "metadata": {},
   "outputs": [],
   "source": [
    "merged_df = pd.merge(old_df, rnd_spending[['country', 'r&dExpense_billions', '%GDP', 'r&dExpensePerCapita']], on='country', how='left')"
   ]
  },
  {
   "cell_type": "code",
   "execution_count": 70,
   "metadata": {},
   "outputs": [],
   "source": [
    "merged_df[['r&dExpense_billions', '%GDP', 'r&dExpensePerCapita']] =  merged_df[['r&dExpense_billions', '%GDP', 'r&dExpensePerCapita']].fillna(0)"
   ]
  },
  {
   "cell_type": "code",
   "execution_count": 71,
   "metadata": {},
   "outputs": [
    {
     "data": {
      "text/plain": [
       "id                       int64\n",
       "fullName                object\n",
       "position               float64\n",
       "lastName                object\n",
       "age                    float64\n",
       "gender                 float64\n",
       "country                 object\n",
       "image                   object\n",
       "source                  object\n",
       "worth                  float64\n",
       "worthChange            float64\n",
       "realTimePosition       float64\n",
       "sourceDetails           object\n",
       "r&dExpense_billions    float64\n",
       "%GDP                   float64\n",
       "r&dExpensePerCapita    float64\n",
       "dtype: object"
      ]
     },
     "execution_count": 71,
     "metadata": {},
     "output_type": "execute_result"
    }
   ],
   "source": [
    "merged_df.dtypes"
   ]
  },
  {
   "cell_type": "code",
   "execution_count": 117,
   "metadata": {},
   "outputs": [],
   "source": [
    "response = requests.get('https://www.forbes.com/ajax/list/data?year=2018&uri=billionaires&type=person')\n",
    "results = response.json()\n",
    "new_df = pd.DataFrame(results)"
   ]
  },
  {
   "cell_type": "code",
   "execution_count": 133,
   "metadata": {},
   "outputs": [
    {
     "data": {
      "text/plain": [
       "2475"
      ]
     },
     "execution_count": 133,
     "metadata": {},
     "output_type": "execute_result"
    }
   ],
   "source": [
    "len(new_df['name'].unique())"
   ]
  },
  {
   "cell_type": "code",
   "execution_count": 139,
   "metadata": {},
   "outputs": [],
   "source": [
    "duplicate = new_df['name'].duplicated()"
   ]
  },
  {
   "cell_type": "code",
   "execution_count": 147,
   "metadata": {},
   "outputs": [
    {
     "data": {
      "text/plain": [
       "0       False\n",
       "1       False\n",
       "2       False\n",
       "3       False\n",
       "4       False\n",
       "        ...  \n",
       "2473    False\n",
       "2474    False\n",
       "2475    False\n",
       "2476    False\n",
       "2477    False\n",
       "Name: name, Length: 2478, dtype: bool"
      ]
     },
     "execution_count": 147,
     "metadata": {},
     "output_type": "execute_result"
    }
   ],
   "source": [
    "new_df['name']"
   ]
  },
  {
   "cell_type": "code",
   "execution_count": 141,
   "metadata": {},
   "outputs": [
    {
     "data": {
      "text/html": [
       "<div>\n",
       "<style scoped>\n",
       "    .dataframe tbody tr th:only-of-type {\n",
       "        vertical-align: middle;\n",
       "    }\n",
       "\n",
       "    .dataframe tbody tr th {\n",
       "        vertical-align: top;\n",
       "    }\n",
       "\n",
       "    .dataframe thead th {\n",
       "        text-align: right;\n",
       "    }\n",
       "</style>\n",
       "<table border=\"1\" class=\"dataframe\">\n",
       "  <thead>\n",
       "    <tr style=\"text-align: right;\">\n",
       "      <th></th>\n",
       "      <th>name</th>\n",
       "      <th>lastName</th>\n",
       "      <th>uri</th>\n",
       "      <th>imageUri</th>\n",
       "      <th>worthChange</th>\n",
       "      <th>age</th>\n",
       "      <th>source</th>\n",
       "      <th>industry</th>\n",
       "      <th>gender</th>\n",
       "      <th>country</th>\n",
       "      <th>...</th>\n",
       "      <th>state</th>\n",
       "      <th>headquarters</th>\n",
       "      <th>position</th>\n",
       "      <th>rank</th>\n",
       "      <th>worth</th>\n",
       "      <th>title</th>\n",
       "      <th>government</th>\n",
       "      <th>pay</th>\n",
       "      <th>managementAssets</th>\n",
       "      <th>salary</th>\n",
       "    </tr>\n",
       "  </thead>\n",
       "  <tbody>\n",
       "    <tr>\n",
       "      <th>1131</th>\n",
       "      <td>jim davis</td>\n",
       "      <td>Davis</td>\n",
       "      <td>jim-davis-1</td>\n",
       "      <td>no-pic</td>\n",
       "      <td>0.000</td>\n",
       "      <td>59.0</td>\n",
       "      <td>staffing &amp; recruiting</td>\n",
       "      <td>Service</td>\n",
       "      <td>M</td>\n",
       "      <td>United States</td>\n",
       "      <td>...</td>\n",
       "      <td>Maryland</td>\n",
       "      <td>MD</td>\n",
       "      <td>862.0</td>\n",
       "      <td>859.0</td>\n",
       "      <td>2800.0</td>\n",
       "      <td>NaN</td>\n",
       "      <td>NaN</td>\n",
       "      <td>NaN</td>\n",
       "      <td>NaN</td>\n",
       "      <td>NaN</td>\n",
       "    </tr>\n",
       "    <tr>\n",
       "      <th>1214</th>\n",
       "      <td>robert miller</td>\n",
       "      <td>Miller</td>\n",
       "      <td>robert-miller</td>\n",
       "      <td>robert-miller</td>\n",
       "      <td>0.000</td>\n",
       "      <td>74.0</td>\n",
       "      <td>electronics components</td>\n",
       "      <td>Technology</td>\n",
       "      <td>M</td>\n",
       "      <td>Canada</td>\n",
       "      <td>...</td>\n",
       "      <td>NaN</td>\n",
       "      <td>NaN</td>\n",
       "      <td>945.0</td>\n",
       "      <td>924.0</td>\n",
       "      <td>2600.0</td>\n",
       "      <td>President and CEO, Future Electronics</td>\n",
       "      <td>False</td>\n",
       "      <td>NaN</td>\n",
       "      <td>NaN</td>\n",
       "      <td>NaN</td>\n",
       "    </tr>\n",
       "    <tr>\n",
       "      <th>1786</th>\n",
       "      <td>li li</td>\n",
       "      <td>Li</td>\n",
       "      <td>li-li-2</td>\n",
       "      <td>li-li-2</td>\n",
       "      <td>14.602</td>\n",
       "      <td>55.0</td>\n",
       "      <td>pharmaceuticals</td>\n",
       "      <td>Healthcare</td>\n",
       "      <td>M</td>\n",
       "      <td>China</td>\n",
       "      <td>...</td>\n",
       "      <td>NaN</td>\n",
       "      <td>NaN</td>\n",
       "      <td>1517.0</td>\n",
       "      <td>1477.0</td>\n",
       "      <td>1600.0</td>\n",
       "      <td>NaN</td>\n",
       "      <td>NaN</td>\n",
       "      <td>NaN</td>\n",
       "      <td>NaN</td>\n",
       "      <td>NaN</td>\n",
       "    </tr>\n",
       "  </tbody>\n",
       "</table>\n",
       "<p>3 rows × 25 columns</p>\n",
       "</div>"
      ],
      "text/plain": [
       "               name lastName            uri       imageUri  worthChange   age  \\\n",
       "1131      jim davis    Davis    jim-davis-1         no-pic        0.000  59.0   \n",
       "1214  robert miller   Miller  robert-miller  robert-miller        0.000  74.0   \n",
       "1786          li li       Li        li-li-2        li-li-2       14.602  55.0   \n",
       "\n",
       "                      source    industry gender        country  ...     state  \\\n",
       "1131   staffing & recruiting     Service      M  United States  ...  Maryland   \n",
       "1214  electronics components  Technology      M         Canada  ...       NaN   \n",
       "1786         pharmaceuticals  Healthcare      M          China  ...       NaN   \n",
       "\n",
       "      headquarters  position    rank   worth  \\\n",
       "1131            MD     862.0   859.0  2800.0   \n",
       "1214           NaN     945.0   924.0  2600.0   \n",
       "1786           NaN    1517.0  1477.0  1600.0   \n",
       "\n",
       "                                      title government  pay  managementAssets  \\\n",
       "1131                                    NaN        NaN  NaN               NaN   \n",
       "1214  President and CEO, Future Electronics      False  NaN               NaN   \n",
       "1786                                    NaN        NaN  NaN               NaN   \n",
       "\n",
       "      salary  \n",
       "1131     NaN  \n",
       "1214     NaN  \n",
       "1786     NaN  \n",
       "\n",
       "[3 rows x 25 columns]"
      ]
     },
     "execution_count": 141,
     "metadata": {},
     "output_type": "execute_result"
    }
   ],
   "source": [
    "new_df[duplicate]"
   ]
  },
  {
   "cell_type": "code",
   "execution_count": 100,
   "metadata": {},
   "outputs": [
    {
     "data": {
      "text/plain": [
       "name                   0\n",
       "lastName               0\n",
       "uri                    0\n",
       "imageUri               0\n",
       "worthChange          291\n",
       "age                   63\n",
       "source                 0\n",
       "industry               6\n",
       "gender                15\n",
       "country                0\n",
       "timestamp              0\n",
       "realTimeWorth        291\n",
       "realTimeRank         291\n",
       "realTimePosition     291\n",
       "squareImage          406\n",
       "state               1753\n",
       "headquarters        1817\n",
       "position             271\n",
       "rank                 271\n",
       "worth                271\n",
       "title               2135\n",
       "government          2135\n",
       "pay                 2456\n",
       "managementAssets    2478\n",
       "salary              2478\n",
       "dtype: int64"
      ]
     },
     "execution_count": 100,
     "metadata": {},
     "output_type": "execute_result"
    }
   ],
   "source": [
    "new_df.isnull().sum()"
   ]
  },
  {
   "cell_type": "code",
   "execution_count": 52,
   "metadata": {},
   "outputs": [],
   "source": [
    "old_df = pd.read_csv('../data/processed/cleaned_output_1.csv', sep=';', keep_default_na=False)"
   ]
  },
  {
   "cell_type": "code",
   "execution_count": 133,
   "metadata": {},
   "outputs": [
    {
     "data": {
      "text/plain": [
       "array(['', 'angola', 'argentina', 'australia', 'austria', 'belgium',\n",
       "       'brazil', 'canada', 'chile', 'china', 'colombia', 'cyprus',\n",
       "       'czech republic', 'denmark', 'egypt', 'finland', 'france',\n",
       "       'georgia', 'germany', 'greece', 'hong kong', 'iceland', 'india',\n",
       "       'indonesia', 'ireland', 'israel', 'italy', 'japan', 'kazakhstan',\n",
       "       'kuwait', 'lebanon', 'liechtenstein', 'macau', 'malaysia',\n",
       "       'mexico', 'monaco', 'morocco', 'netherlands', 'new zealand',\n",
       "       'norway', 'oman', 'peru', 'philippines', 'poland', 'qatar',\n",
       "       'russia', 'singapore', 'south africa', 'south korea', 'spain',\n",
       "       'st. kitts and nevis', 'swaziland', 'sweden', 'switzerland',\n",
       "       'taiwan', 'thailand', 'turkey', 'ukraine', 'united arab emirates',\n",
       "       'united kingdom', 'united states', 'vietnam'], dtype=object)"
      ]
     },
     "execution_count": 133,
     "metadata": {},
     "output_type": "execute_result"
    }
   ],
   "source": [
    "old_df['country'].sort_values().unique()"
   ]
  },
  {
   "cell_type": "code",
   "execution_count": 130,
   "metadata": {},
   "outputs": [],
   "source": [
    "def get_null(x):\n",
    "    return x.isnull().sum()"
   ]
  },
  {
   "cell_type": "code",
   "execution_count": 134,
   "metadata": {},
   "outputs": [
    {
     "data": {
      "text/plain": [
       "id                  0\n",
       "fullName            0\n",
       "position            0\n",
       "lastName            0\n",
       "age                 0\n",
       "gender              0\n",
       "country             0\n",
       "image               0\n",
       "source              0\n",
       "worth               0\n",
       "worthChange         0\n",
       "realTimePosition    0\n",
       "sourceDetails       0\n",
       "dtype: int64"
      ]
     },
     "execution_count": 134,
     "metadata": {},
     "output_type": "execute_result"
    }
   ],
   "source": [
    "get_null(old_df)"
   ]
  },
  {
   "cell_type": "code",
   "execution_count": 34,
   "metadata": {},
   "outputs": [],
   "source": [
    "def lowercase_feature(df, col):\n",
    "    return df[col].str.lower()\n",
    "\n",
    "#new_df['name'] = lowercase_feature(new_df, 'name')"
   ]
  },
  {
   "cell_type": "code",
   "execution_count": 50,
   "metadata": {},
   "outputs": [
    {
     "data": {
      "text/plain": [
       "id                       int64\n",
       "fullName                object\n",
       "position               float64\n",
       "lastName                object\n",
       "age                    float64\n",
       "gender                  object\n",
       "country                 object\n",
       "image                   object\n",
       "source                  object\n",
       "worth                  float64\n",
       "worthChange            float64\n",
       "realTimePosition       float64\n",
       "sourceDetails           object\n",
       "r&dExpense_billions    float64\n",
       "%GDP                   float64\n",
       "r&dExpensePerCapita    float64\n",
       "dtype: object"
      ]
     },
     "execution_count": 50,
     "metadata": {},
     "output_type": "execute_result"
    }
   ],
   "source": [
    "merged_df.dtypes"
   ]
  },
  {
   "cell_type": "code",
   "execution_count": 72,
   "metadata": {},
   "outputs": [],
   "source": [
    "table_analysis = merged_df.groupby('country').agg(billionaires=('id', 'count'),\n",
    "                                                  age=('age', 'mean'),\n",
    "                                                  gender=('gender', 'mean'),\n",
    "                                                  mean_billionaire_pos=('position', 'mean'),\n",
    "                                                  median_billionaire_pos=('position', 'median'),\n",
    "                                                  total_billionaire_worth=('worth', 'sum'),\n",
    "                                                  mean_billionaire_worth=('worth', 'mean'),\n",
    "                                                  median_billionaire_worth=('worth', 'median'),\n",
    "                                                  rd_expense_billions=('r&dExpense_billions','max'),\n",
    "                                                  rd_expense_capita=('r&dExpensePerCapita','max'),\n",
    "                                                  percent_GDP=('%GDP','max')).sort_values(by='billionaires', ascending=False)[1:].reset_index()"
   ]
  },
  {
   "cell_type": "code",
   "execution_count": 75,
   "metadata": {},
   "outputs": [
    {
     "data": {
      "text/plain": [
       "array(['angola', 'argentina', 'australia', 'austria', 'belgium', 'brazil',\n",
       "       'canada', 'chile', 'china', 'colombia', 'cyprus', 'czech republic',\n",
       "       'denmark', 'egypt', 'finland', 'france', 'georgia', 'germany',\n",
       "       'greece', 'hong kong', 'iceland', 'india', 'indonesia', 'ireland',\n",
       "       'israel', 'italy', 'japan', 'kazakhstan', 'kuwait', 'lebanon',\n",
       "       'liechtenstein', 'macau', 'malaysia', 'mexico', 'monaco',\n",
       "       'morocco', 'netherlands', 'new zealand', 'norway', 'oman', 'peru',\n",
       "       'philippines', 'poland', 'qatar', 'russia', 'singapore',\n",
       "       'south africa', 'south korea', 'spain', 'st. kitts and nevis',\n",
       "       'swaziland', 'sweden', 'switzerland', 'taiwan', 'thailand',\n",
       "       'turkey', 'ukraine', 'united arab emirates', 'united kingdom',\n",
       "       'united states', 'vietnam'], dtype=object)"
      ]
     },
     "execution_count": 75,
     "metadata": {},
     "output_type": "execute_result"
    }
   ],
   "source": [
    "table_analysis['country'].sort_values().unique()"
   ]
  },
  {
   "cell_type": "code",
   "execution_count": 167,
   "metadata": {},
   "outputs": [
    {
     "data": {
      "text/html": [
       "<div>\n",
       "<style scoped>\n",
       "    .dataframe tbody tr th:only-of-type {\n",
       "        vertical-align: middle;\n",
       "    }\n",
       "\n",
       "    .dataframe tbody tr th {\n",
       "        vertical-align: top;\n",
       "    }\n",
       "\n",
       "    .dataframe thead th {\n",
       "        text-align: right;\n",
       "    }\n",
       "</style>\n",
       "<table border=\"1\" class=\"dataframe\">\n",
       "  <thead>\n",
       "    <tr style=\"text-align: right;\">\n",
       "      <th></th>\n",
       "      <th>country</th>\n",
       "      <th>billionaires</th>\n",
       "      <th>mean_billionaire_pos</th>\n",
       "      <th>median_billionaire_pos</th>\n",
       "      <th>mean_billionaire_worth</th>\n",
       "      <th>median_billionaire_worth</th>\n",
       "      <th>rdExpense</th>\n",
       "      <th>rdExpensePerCapita</th>\n",
       "      <th>percent_GDP</th>\n",
       "    </tr>\n",
       "  </thead>\n",
       "  <tbody>\n",
       "    <tr>\n",
       "      <th>28</th>\n",
       "      <td>monaco</td>\n",
       "      <td>4</td>\n",
       "      <td>1463.0</td>\n",
       "      <td>1459.5</td>\n",
       "      <td>1.725</td>\n",
       "      <td>1.70</td>\n",
       "      <td>NaN</td>\n",
       "      <td>NaN</td>\n",
       "      <td>NaN</td>\n",
       "    </tr>\n",
       "    <tr>\n",
       "      <th>35</th>\n",
       "      <td>st. kitts and nevis</td>\n",
       "      <td>2</td>\n",
       "      <td>1834.0</td>\n",
       "      <td>1834.0</td>\n",
       "      <td>1.350</td>\n",
       "      <td>1.35</td>\n",
       "      <td>NaN</td>\n",
       "      <td>NaN</td>\n",
       "      <td>NaN</td>\n",
       "    </tr>\n",
       "    <tr>\n",
       "      <th>43</th>\n",
       "      <td>lebanon</td>\n",
       "      <td>2</td>\n",
       "      <td>1344.5</td>\n",
       "      <td>1344.5</td>\n",
       "      <td>2.000</td>\n",
       "      <td>2.00</td>\n",
       "      <td>NaN</td>\n",
       "      <td>NaN</td>\n",
       "      <td>NaN</td>\n",
       "    </tr>\n",
       "    <tr>\n",
       "      <th>53</th>\n",
       "      <td>swaziland</td>\n",
       "      <td>1</td>\n",
       "      <td>505.0</td>\n",
       "      <td>505.0</td>\n",
       "      <td>4.300</td>\n",
       "      <td>4.30</td>\n",
       "      <td>NaN</td>\n",
       "      <td>NaN</td>\n",
       "      <td>NaN</td>\n",
       "    </tr>\n",
       "    <tr>\n",
       "      <th>55</th>\n",
       "      <td>angola</td>\n",
       "      <td>1</td>\n",
       "      <td>933.0</td>\n",
       "      <td>933.0</td>\n",
       "      <td>2.600</td>\n",
       "      <td>2.60</td>\n",
       "      <td>NaN</td>\n",
       "      <td>NaN</td>\n",
       "      <td>NaN</td>\n",
       "    </tr>\n",
       "    <tr>\n",
       "      <th>60</th>\n",
       "      <td>liechtenstein</td>\n",
       "      <td>1</td>\n",
       "      <td>587.0</td>\n",
       "      <td>587.0</td>\n",
       "      <td>3.900</td>\n",
       "      <td>3.90</td>\n",
       "      <td>NaN</td>\n",
       "      <td>NaN</td>\n",
       "      <td>NaN</td>\n",
       "    </tr>\n",
       "  </tbody>\n",
       "</table>\n",
       "</div>"
      ],
      "text/plain": [
       "                country  billionaires  mean_billionaire_pos  \\\n",
       "28               monaco             4                1463.0   \n",
       "35  st. kitts and nevis             2                1834.0   \n",
       "43              lebanon             2                1344.5   \n",
       "53            swaziland             1                 505.0   \n",
       "55               angola             1                 933.0   \n",
       "60        liechtenstein             1                 587.0   \n",
       "\n",
       "    median_billionaire_pos  mean_billionaire_worth  median_billionaire_worth  \\\n",
       "28                  1459.5                   1.725                      1.70   \n",
       "35                  1834.0                   1.350                      1.35   \n",
       "43                  1344.5                   2.000                      2.00   \n",
       "53                   505.0                   4.300                      4.30   \n",
       "55                   933.0                   2.600                      2.60   \n",
       "60                   587.0                   3.900                      3.90   \n",
       "\n",
       "    rdExpense  rdExpensePerCapita  percent_GDP  \n",
       "28        NaN                 NaN          NaN  \n",
       "35        NaN                 NaN          NaN  \n",
       "43        NaN                 NaN          NaN  \n",
       "53        NaN                 NaN          NaN  \n",
       "55        NaN                 NaN          NaN  \n",
       "60        NaN                 NaN          NaN  "
      ]
     },
     "execution_count": 167,
     "metadata": {},
     "output_type": "execute_result"
    }
   ],
   "source": [
    "null_table"
   ]
  },
  {
   "cell_type": "code",
   "execution_count": 73,
   "metadata": {},
   "outputs": [
    {
     "data": {
      "text/plain": [
       "country\n",
       "united states    201\n",
       "china            158\n",
       "usa               69\n",
       "germany           45\n",
       "india             41\n",
       "                ... \n",
       "oman               1\n",
       "qatar              1\n",
       "south africa       1\n",
       "swaziland          1\n",
       "angola             1\n",
       "Name: id, Length: 63, dtype: int64"
      ]
     },
     "execution_count": 73,
     "metadata": {},
     "output_type": "execute_result"
    }
   ],
   "source": [
    "rich_per_country"
   ]
  }
 ],
 "metadata": {
  "kernelspec": {
   "display_name": "Python [conda env:data_env]",
   "language": "python",
   "name": "conda-env-data_env-py"
  },
  "language_info": {
   "codemirror_mode": {
    "name": "ipython",
    "version": 3
   },
   "file_extension": ".py",
   "mimetype": "text/x-python",
   "name": "python",
   "nbconvert_exporter": "python",
   "pygments_lexer": "ipython3",
   "version": "3.7.5"
  }
 },
 "nbformat": 4,
 "nbformat_minor": 4
}
